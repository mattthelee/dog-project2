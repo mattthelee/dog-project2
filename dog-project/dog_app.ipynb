{
 "cells": [
  {
   "cell_type": "markdown",
   "metadata": {},
   "source": [
    "# Artificial Intelligence Nanodegree\n",
    "\n",
    "## Convolutional Neural Networks\n",
    "\n",
    "## Project: Write an Algorithm for a Dog Identification App \n",
    "\n",
    "---\n",
    "\n",
    "In this notebook, some template code has already been provided for you, and you will need to implement additional functionality to successfully complete this project. You will not need to modify the included code beyond what is requested. Sections that begin with **'(IMPLEMENTATION)'** in the header indicate that the following block of code will require additional functionality which you must provide. Instructions will be provided for each section, and the specifics of the implementation are marked in the code block with a 'TODO' statement. Please be sure to read the instructions carefully! \n",
    "\n",
    "> **Note**: Once you have completed all of the code implementations, you need to finalize your work by exporting the iPython Notebook as an HTML document. Before exporting the notebook to html, all of the code cells need to have been run so that reviewers can see the final implementation and output. You can then export the notebook by using the menu above and navigating to  \\n\",\n",
    "    \"**File -> Download as -> HTML (.html)**. Include the finished document along with this notebook as your submission.\n",
    "\n",
    "In addition to implementing code, there will be questions that you must answer which relate to the project and your implementation. Each section where you will answer a question is preceded by a **'Question X'** header. Carefully read each question and provide thorough answers in the following text boxes that begin with **'Answer:'**. Your project submission will be evaluated based on your answers to each of the questions and the implementation you provide.\n",
    "\n",
    ">**Note:** Code and Markdown cells can be executed using the **Shift + Enter** keyboard shortcut.  Markdown cells can be edited by double-clicking the cell to enter edit mode.\n",
    "\n",
    "The rubric contains _optional_ \"Stand Out Suggestions\" for enhancing the project beyond the minimum requirements. If you decide to pursue the \"Stand Out Suggestions\", you should include the code in this IPython notebook.\n",
    "\n",
    "\n",
    "\n",
    "---\n",
    "### Why We're Here \n",
    "\n",
    "In this notebook, you will make the first steps towards developing an algorithm that could be used as part of a mobile or web app.  At the end of this project, your code will accept any user-supplied image as input.  If a dog is detected in the image, it will provide an estimate of the dog's breed.  If a human is detected, it will provide an estimate of the dog breed that is most resembling.  The image below displays potential sample output of your finished project (... but we expect that each student's algorithm will behave differently!). \n",
    "\n",
    "![Sample Dog Output](images/sample_dog_output.png)\n",
    "\n",
    "In this real-world setting, you will need to piece together a series of models to perform different tasks; for instance, the algorithm that detects humans in an image will be different from the CNN that infers dog breed.  There are many points of possible failure, and no perfect algorithm exists.  Your imperfect solution will nonetheless create a fun user experience!\n",
    "\n",
    "### The Road Ahead\n",
    "\n",
    "We break the notebook into separate steps.  Feel free to use the links below to navigate the notebook.\n",
    "\n",
    "* [Step 0](#step0): Import Datasets\n",
    "* [Step 1](#step1): Detect Humans\n",
    "* [Step 2](#step2): Detect Dogs\n",
    "* [Step 3](#step3): Create a CNN to Classify Dog Breeds (from Scratch)\n",
    "* [Step 4](#step4): Use a CNN to Classify Dog Breeds (using Transfer Learning)\n",
    "* [Step 5](#step5): Create a CNN to Classify Dog Breeds (using Transfer Learning)\n",
    "* [Step 6](#step6): Write your Algorithm\n",
    "* [Step 7](#step7): Test Your Algorithm\n",
    "\n",
    "---\n",
    "<a id='step0'></a>\n",
    "## Step 0: Import Datasets\n",
    "\n",
    "### Import Dog Dataset\n",
    "\n",
    "In the code cell below, we import a dataset of dog images.  We populate a few variables through the use of the `load_files` function from the scikit-learn library:\n",
    "- `train_files`, `valid_files`, `test_files` - numpy arrays containing file paths to images\n",
    "- `train_targets`, `valid_targets`, `test_targets` - numpy arrays containing onehot-encoded classification labels \n",
    "- `dog_names` - list of string-valued dog breed names for translating labels"
   ]
  },
  {
   "cell_type": "code",
   "execution_count": 4,
   "metadata": {},
   "outputs": [
    {
     "name": "stdout",
     "output_type": "stream",
     "text": [
      "There are 133 total dog categories.\n",
      "There are 8351 total dog images.\n",
      "\n",
      "There are 6680 training dog images.\n",
      "There are 835 validation dog images.\n",
      "There are 836 test dog images.\n"
     ]
    }
   ],
   "source": [
    "from sklearn.datasets import load_files       \n",
    "from keras.utils import np_utils\n",
    "import numpy as np\n",
    "from glob import glob\n",
    "\n",
    "# define function to load train, test, and validation datasets\n",
    "def load_dataset(path):\n",
    "    data = load_files(path)\n",
    "    dog_files = np.array(data['filenames'])\n",
    "    dog_targets = np_utils.to_categorical(np.array(data['target']), 133)\n",
    "    return dog_files, dog_targets\n",
    "\n",
    "# load train, test, and validation datasets\n",
    "train_files, train_targets = load_dataset('dogImages/train')\n",
    "valid_files, valid_targets = load_dataset('dogImages/valid')\n",
    "test_files, test_targets = load_dataset('dogImages/test')\n",
    "\n",
    "# load list of dog names\n",
    "dog_names = [item[20:-1] for item in sorted(glob(\"dogImages/train/*/\"))]\n",
    "\n",
    "# print statistics about the dataset\n",
    "print('There are %d total dog categories.' % len(dog_names))\n",
    "print('There are %s total dog images.\\n' % len(np.hstack([train_files, valid_files, test_files])))\n",
    "print('There are %d training dog images.' % len(train_files))\n",
    "print('There are %d validation dog images.' % len(valid_files))\n",
    "print('There are %d test dog images.'% len(test_files))"
   ]
  },
  {
   "cell_type": "markdown",
   "metadata": {},
   "source": [
    "### Import Human Dataset\n",
    "\n",
    "In the code cell below, we import a dataset of human images, where the file paths are stored in the numpy array `human_files`."
   ]
  },
  {
   "cell_type": "code",
   "execution_count": 5,
   "metadata": {},
   "outputs": [
    {
     "name": "stdout",
     "output_type": "stream",
     "text": [
      "There are 13233 total human images.\n"
     ]
    }
   ],
   "source": [
    "import random\n",
    "random.seed(8675309)\n",
    "\n",
    "# load filenames in shuffled human dataset\n",
    "human_files = np.array(glob(\"lfw/*/*\"))\n",
    "random.shuffle(human_files)\n",
    "\n",
    "# print statistics about the dataset\n",
    "print('There are %d total human images.' % len(human_files))"
   ]
  },
  {
   "cell_type": "markdown",
   "metadata": {},
   "source": [
    "---\n",
    "<a id='step1'></a>\n",
    "## Step 1: Detect Humans\n",
    "\n",
    "We use OpenCV's implementation of [Haar feature-based cascade classifiers](http://docs.opencv.org/trunk/d7/d8b/tutorial_py_face_detection.html) to detect human faces in images.  OpenCV provides many pre-trained face detectors, stored as XML files on [github](https://github.com/opencv/opencv/tree/master/data/haarcascades).  We have downloaded one of these detectors and stored it in the `haarcascades` directory.\n",
    "\n",
    "In the next code cell, we demonstrate how to use this detector to find human faces in a sample image."
   ]
  },
  {
   "cell_type": "code",
   "execution_count": 6,
   "metadata": {},
   "outputs": [
    {
     "name": "stdout",
     "output_type": "stream",
     "text": [
      "Number of faces detected: 2\n"
     ]
    },
    {
     "data": {
      "image/png": "[encoded data removed]",
      "text/plain": [
       "<matplotlib.figure.Figure at 0x7f3a5921b630>"
      ]
     },
     "metadata": {},
     "output_type": "display_data"
    }
   ],
   "source": [
    "import cv2                \n",
    "import matplotlib.pyplot as plt                        \n",
    "%matplotlib inline                               \n",
    "\n",
    "# extract pre-trained face detector\n",
    "face_cascade = cv2.CascadeClassifier('haarcascades/haarcascade_frontalface_alt.xml')\n",
    "\n",
    "# load color (BGR) image\n",
    "img = cv2.imread(human_files[3])\n",
    "# convert BGR image to grayscale\n",
    "gray = cv2.cvtColor(img, cv2.COLOR_BGR2GRAY)\n",
    "\n",
    "# find faces in image\n",
    "faces = face_cascade.detectMultiScale(gray)\n",
    "\n",
    "# print number of faces detected in the image\n",
    "print('Number of faces detected:', len(faces))\n",
    "\n",
    "# get bounding box for each detected face\n",
    "for (x,y,w,h) in faces:\n",
    "    # add bounding box to color image\n",
    "    cv2.rectangle(img,(x,y),(x+w,y+h),(255,0,0),2)\n",
    "    \n",
    "# convert BGR image to RGB for plotting\n",
    "cv_rgb = cv2.cvtColor(img, cv2.COLOR_BGR2RGB)\n",
    "\n",
    "# display the image, along with bounding box\n",
    "plt.imshow(cv_rgb)\n",
    "plt.show()"
   ]
  },
  {
   "cell_type": "markdown",
   "metadata": {},
   "source": [
    "Before using any of the face detectors, it is standard procedure to convert the images to grayscale.  The `detectMultiScale` function executes the classifier stored in `face_cascade` and takes the grayscale image as a parameter.  \n",
    "\n",
    "In the above code, `faces` is a numpy array of detected faces, where each row corresponds to a detected face.  Each detected face is a 1D array with four entries that specifies the bounding box of the detected face.  The first two entries in the array (extracted in the above code as `x` and `y`) specify the horizontal and vertical positions of the top left corner of the bounding box.  The last two entries in the array (extracted here as `w` and `h`) specify the width and height of the box.\n",
    "\n",
    "### Write a Human Face Detector\n",
    "\n",
    "We can use this procedure to write a function that returns `True` if a human face is detected in an image and `False` otherwise.  This function, aptly named `face_detector`, takes a string-valued file path to an image as input and appears in the code block below."
   ]
  },
  {
   "cell_type": "code",
   "execution_count": 7,
   "metadata": {
    "collapsed": true
   },
   "outputs": [],
   "source": [
    "# returns \"True\" if face is detected in image stored at img_path\n",
    "def face_detector(img_path):\n",
    "    img = cv2.imread(img_path)\n",
    "    gray = cv2.cvtColor(img, cv2.COLOR_BGR2GRAY)\n",
    "    faces = face_cascade.detectMultiScale(gray)\n",
    "    return len(faces) > 0"
   ]
  },
  {
   "cell_type": "markdown",
   "metadata": {},
   "source": [
    "### (IMPLEMENTATION) Assess the Human Face Detector\n",
    "\n",
    "__Question 1:__ Use the code cell below to test the performance of the `face_detector` function.  \n",
    "- What percentage of the first 100 images in `human_files` have a detected human face?  \n",
    "- What percentage of the first 100 images in `dog_files` have a detected human face? \n",
    "\n",
    "Ideally, we would like 100% of human images with a detected face and 0% of dog images with a detected face.  You will see that our algorithm falls short of this goal, but still gives acceptable performance.  We extract the file paths for the first 100 images from each of the datasets and store them in the numpy arrays `human_files_short` and `dog_files_short`.\n",
    "\n",
    "__Answer:__ \n",
    "96% of images in first 100 human images have a detected human face in them\n",
    "11% of images in first 100 dog images have a detected human face in them."
   ]
  },
  {
   "cell_type": "code",
   "execution_count": 8,
   "metadata": {},
   "outputs": [
    {
     "name": "stdout",
     "output_type": "stream",
     "text": [
      "lfw/Steve_Mariucci/Steve_Mariucci_0001.jpg True\n",
      "lfw/Tom_Izzo/Tom_Izzo_0001.jpg True\n",
      "lfw/Winona_Ryder/Winona_Ryder_0022.jpg True\n",
      "lfw/Carla_Myers/Carla_Myers_0002.jpg True\n",
      "lfw/Serena_Williams/Serena_Williams_0041.jpg True\n",
      "lfw/Nestor_Gonzalez/Nestor_Gonzalez_0001.jpg True\n",
      "lfw/Nestor_Kirchner/Nestor_Kirchner_0002.jpg True\n",
      "lfw/Luis_Gonzalez_Macchi/Luis_Gonzalez_Macchi_0004.jpg True\n",
      "lfw/Paulina_Rodriguez_Davila/Paulina_Rodriguez_Davila_0001.jpg True\n",
      "lfw/Julius_Barnes/Julius_Barnes_0001.jpg True\n",
      "lfw/Teri_ORourke/Teri_ORourke_0001.jpg True\n",
      "lfw/Pat_Rochester/Pat_Rochester_0001.jpg True\n",
      "lfw/Robert_Redford/Robert_Redford_0005.jpg True\n",
      "lfw/Bob_Dole/Bob_Dole_0001.jpg True\n",
      "lfw/George_W_Bush/George_W_Bush_0244.jpg True\n",
      "lfw/King_Abdullah_II/King_Abdullah_II_0005.jpg True\n",
      "lfw/Rob_Moore/Rob_Moore_0001.jpg True\n",
      "lfw/Hans_Blix/Hans_Blix_0036.jpg True\n",
      "lfw/Janet_Crawford/Janet_Crawford_0001.jpg True\n",
      "lfw/Donald_Rumsfeld/Donald_Rumsfeld_0077.jpg True\n",
      "lfw/George_Karl/George_Karl_0002.jpg True\n",
      "lfw/Pete_Sampras/Pete_Sampras_0017.jpg True\n",
      "lfw/Dick_Clark/Dick_Clark_0002.jpg True\n",
      "lfw/John_Reilly/John_Reilly_0001.jpg True\n",
      "lfw/Tom_Osborne/Tom_Osborne_0001.jpg True\n",
      "lfw/George_W_Bush/George_W_Bush_0191.jpg True\n",
      "lfw/Lucio_Gutierrez/Lucio_Gutierrez_0007.jpg True\n",
      "lfw/Bob_Stoops/Bob_Stoops_0001.jpg True\n",
      "lfw/Charles_Taylor/Charles_Taylor_0004.jpg True\n",
      "lfw/Mark_Wahlberg/Mark_Wahlberg_0002.jpg True\n",
      "lfw/Jean_Brumley/Jean_Brumley_0001.jpg True\n",
      "lfw/Tippi_Hedren/Tippi_Hedren_0002.jpg True\n",
      "lfw/Peter_Care/Peter_Care_0001.jpg True\n",
      "lfw/Ariel_Sharon/Ariel_Sharon_0033.jpg True\n",
      "lfw/Ian_Knop/Ian_Knop_0001.jpg True\n",
      "lfw/Jessica_Biel/Jessica_Biel_0001.jpg True\n",
      "lfw/Jim_Furyk/Jim_Furyk_0005.jpg True\n",
      "lfw/Azmi_Bishara/Azmi_Bishara_0001.jpg True\n",
      "lfw/Vladimir_Putin/Vladimir_Putin_0047.jpg True\n",
      "lfw/Eric_Staal/Eric_Staal_0001.jpg True\n",
      "lfw/George_W_Bush/George_W_Bush_0387.jpg True\n",
      "lfw/Natasha_Henstridge/Natasha_Henstridge_0001.jpg True\n",
      "lfw/Alessandro_Nesta/Alessandro_Nesta_0001.jpg True\n",
      "lfw/Paul_Bremer/Paul_Bremer_0007.jpg True\n",
      "lfw/Jeb_Bush/Jeb_Bush_0006.jpg True\n",
      "lfw/Laura_Bush/Laura_Bush_0017.jpg True\n",
      "lfw/George_W_Bush/George_W_Bush_0392.jpg True\n",
      "lfw/Amelie_Mauresmo/Amelie_Mauresmo_0015.jpg True\n",
      "lfw/Andy_Roddick/Andy_Roddick_0007.jpg True\n",
      "lfw/Venus_Williams/Venus_Williams_0010.jpg True\n",
      "lfw/Sarah_Hughes/Sarah_Hughes_0006.jpg True\n",
      "lfw/James_Franco/James_Franco_0002.jpg True\n",
      "lfw/Abdul_Majeed_Shobokshi/Abdul_Majeed_Shobokshi_0001.jpg False\n",
      "lfw/Andre_Agassi/Andre_Agassi_0012.jpg True\n",
      "lfw/Kurt_Russell/Kurt_Russell_0002.jpg True\n",
      "lfw/Eduardo_Duhalde/Eduardo_Duhalde_0012.jpg True\n",
      "lfw/Jerry_Sexton/Jerry_Sexton_0001.jpg True\n",
      "lfw/Claude_Jorda/Claude_Jorda_0001.jpg True\n",
      "lfw/Jacky_Cheung/Jacky_Cheung_0001.jpg True\n",
      "lfw/Joe_Torre/Joe_Torre_0004.jpg True\n",
      "lfw/Hank_Aaron/Hank_Aaron_0001.jpg True\n",
      "lfw/Wesley_Clark/Wesley_Clark_0001.jpg True\n",
      "lfw/Barbara_Boxer/Barbara_Boxer_0001.jpg False\n",
      "lfw/Pete_Carroll/Pete_Carroll_0003.jpg True\n",
      "lfw/Francis_Crick/Francis_Crick_0001.jpg True\n",
      "lfw/Pierce_Brosnan/Pierce_Brosnan_0007.jpg True\n",
      "lfw/Tessa_Jowell/Tessa_Jowell_0001.jpg False\n",
      "lfw/Lance_Armstrong/Lance_Armstrong_0012.jpg True\n",
      "lfw/Jim_Taylor/Jim_Taylor_0001.jpg True\n",
      "lfw/Tony_Blair/Tony_Blair_0137.jpg True\n",
      "lfw/Gianni_Agnelli/Gianni_Agnelli_0001.jpg True\n",
      "lfw/Sharon_Frey/Sharon_Frey_0001.jpg True\n",
      "lfw/Glen_Sather/Glen_Sather_0001.jpg True\n",
      "lfw/Barry_Alvarez/Barry_Alvarez_0001.jpg True\n",
      "lfw/Len_Jenoff/Len_Jenoff_0001.jpg True\n",
      "lfw/Bob_Crippen/Bob_Crippen_0001.jpg True\n",
      "lfw/Tony_Blair/Tony_Blair_0109.jpg True\n",
      "lfw/Robin_Williams/Robin_Williams_0001.jpg True\n",
      "lfw/Lleyton_Hewitt/Lleyton_Hewitt_0001.jpg True\n",
      "lfw/Jim_Piper/Jim_Piper_0001.jpg True\n",
      "lfw/Sean_OKeefe/Sean_OKeefe_0002.jpg True\n",
      "lfw/Ricardo_Lagos/Ricardo_Lagos_0013.jpg True\n",
      "lfw/Astrid_Betancourt/Astrid_Betancourt_0001.jpg True\n",
      "lfw/Paul_Burrell/Paul_Burrell_0011.jpg True\n",
      "lfw/Lawrence_Roberts/Lawrence_Roberts_0001.jpg True\n",
      "lfw/George_W_Bush/George_W_Bush_0455.jpg True\n",
      "lfw/Costas_Simitis/Costas_Simitis_0004.jpg True\n",
      "lfw/Estella_Warren/Estella_Warren_0001.jpg True\n",
      "lfw/Jim_Jeffords/Jim_Jeffords_0001.jpg True\n",
      "lfw/Michael_Rolinee/Michael_Rolinee_0001.jpg True\n",
      "lfw/Clint_Eastwood/Clint_Eastwood_0001.jpg True\n",
      "lfw/Yossi_Beilin/Yossi_Beilin_0002.jpg True\n",
      "lfw/Julio_Cesar_Franco/Julio_Cesar_Franco_0001.jpg True\n",
      "lfw/Steve_Ballmer/Steve_Ballmer_0001.jpg False\n",
      "lfw/Larry_Tanenbaum/Larry_Tanenbaum_0001.jpg True\n",
      "lfw/Jake_Gyllenhaal/Jake_Gyllenhaal_0004.jpg True\n",
      "lfw/Mikhail_Kasyanov/Mikhail_Kasyanov_0004.jpg True\n",
      "lfw/John_Danforth/John_Danforth_0001.jpg True\n",
      "lfw/Alejandro_Toledo/Alejandro_Toledo_0004.jpg True\n",
      "lfw/Gerhard_Schroeder/Gerhard_Schroeder_0076.jpg True\n",
      "dogImages/train/095.Kuvasz/Kuvasz_06442.jpg True\n",
      "dogImages/train/057.Dalmatian/Dalmatian_04054.jpg False\n",
      "dogImages/train/088.Irish_water_spaniel/Irish_water_spaniel_06014.jpg False\n",
      "dogImages/train/008.American_staffordshire_terrier/American_staffordshire_terrier_00596.jpg False\n",
      "dogImages/train/008.American_staffordshire_terrier/American_staffordshire_terrier_00563.jpg False\n",
      "dogImages/train/063.English_springer_spaniel/English_springer_spaniel_04469.jpg False\n",
      "dogImages/train/054.Collie/Collie_03789.jpg False\n",
      "dogImages/train/119.Petit_basset_griffon_vendeen/Petit_basset_griffon_vendeen_07705.jpg False\n",
      "dogImages/train/009.American_water_spaniel/American_water_spaniel_00625.jpg False\n",
      "dogImages/train/081.Greyhound/Greyhound_05559.jpg False\n",
      "dogImages/train/012.Australian_shepherd/Australian_shepherd_00814.jpg False\n",
      "dogImages/train/071.German_shepherd_dog/German_shepherd_dog_04890.jpg False\n",
      "dogImages/train/015.Basset_hound/Basset_hound_01094.jpg False\n",
      "dogImages/train/053.Cocker_spaniel/Cocker_spaniel_03768.jpg False\n",
      "dogImages/train/099.Lhasa_apso/Lhasa_apso_06646.jpg True\n",
      "dogImages/train/009.American_water_spaniel/American_water_spaniel_00628.jpg True\n",
      "dogImages/train/056.Dachshund/Dachshund_03935.jpg False\n",
      "dogImages/train/082.Havanese/Havanese_05627.jpg False\n",
      "dogImages/train/117.Pekingese/Pekingese_07595.jpg False\n",
      "dogImages/train/051.Chow_chow/Chow_chow_03650.jpg False\n",
      "dogImages/train/097.Lakeland_terrier/Lakeland_terrier_06526.jpg False\n",
      "dogImages/train/057.Dalmatian/Dalmatian_04023.jpg True\n",
      "dogImages/train/096.Labrador_retriever/Labrador_retriever_06474.jpg True\n",
      "dogImages/train/106.Newfoundland/Newfoundland_06989.jpg True\n",
      "dogImages/train/117.Pekingese/Pekingese_07559.jpg True\n",
      "dogImages/train/087.Irish_terrier/Irish_terrier_05904.jpg False\n",
      "dogImages/train/067.Finnish_spitz/Finnish_spitz_04672.jpg False\n",
      "dogImages/train/005.Alaskan_malamute/Alaskan_malamute_00370.jpg False\n",
      "dogImages/train/023.Bernese_mountain_dog/Bernese_mountain_dog_01621.jpg False\n",
      "dogImages/train/106.Newfoundland/Newfoundland_06982.jpg False\n",
      "dogImages/train/039.Bull_terrier/Bull_terrier_02805.jpg True\n",
      "dogImages/train/090.Italian_greyhound/Italian_greyhound_06108.jpg False\n",
      "dogImages/train/097.Lakeland_terrier/Lakeland_terrier_06516.jpg True\n",
      "dogImages/train/012.Australian_shepherd/Australian_shepherd_00855.jpg False\n",
      "dogImages/train/086.Irish_setter/Irish_setter_05810.jpg False\n",
      "dogImages/train/102.Manchester_terrier/Manchester_terrier_06806.jpg False\n",
      "dogImages/train/119.Petit_basset_griffon_vendeen/Petit_basset_griffon_vendeen_07694.jpg False\n",
      "dogImages/train/057.Dalmatian/Dalmatian_04086.jpg False\n",
      "dogImages/train/015.Basset_hound/Basset_hound_01115.jpg False\n",
      "dogImages/train/062.English_setter/English_setter_04407.jpg False\n",
      "dogImages/train/026.Black_russian_terrier/Black_russian_terrier_01822.jpg False\n",
      "dogImages/train/018.Beauceron/Beauceron_01279.jpg False\n",
      "dogImages/train/017.Bearded_collie/Bearded_collie_01245.jpg False\n",
      "dogImages/train/121.Plott/Plott_07784.jpg False\n",
      "dogImages/train/047.Chesapeake_bay_retriever/Chesapeake_bay_retriever_03365.jpg False\n",
      "dogImages/train/076.Golden_retriever/Golden_retriever_05230.jpg False\n",
      "dogImages/train/039.Bull_terrier/Bull_terrier_02751.jpg False\n",
      "dogImages/train/054.Collie/Collie_03838.jpg False\n",
      "dogImages/train/027.Bloodhound/Bloodhound_01946.jpg False\n",
      "dogImages/train/110.Norwegian_lundehund/Norwegian_lundehund_07220.jpg False\n",
      "dogImages/train/082.Havanese/Havanese_05616.jpg False\n",
      "dogImages/train/045.Cardigan_welsh_corgi/Cardigan_welsh_corgi_03237.jpg False\n",
      "dogImages/train/040.Bulldog/Bulldog_02843.jpg False\n",
      "dogImages/train/085.Irish_red_and_white_setter/Irish_red_and_white_setter_05779.jpg False\n"
     ]
    },
    {
     "name": "stdout",
     "output_type": "stream",
     "text": [
      "dogImages/train/006.American_eskimo_dog/American_eskimo_dog_00398.jpg False\n",
      "dogImages/train/019.Bedlington_terrier/Bedlington_terrier_01374.jpg False\n",
      "dogImages/train/010.Anatolian_shepherd_dog/Anatolian_shepherd_dog_00681.jpg False\n",
      "dogImages/train/008.American_staffordshire_terrier/American_staffordshire_terrier_00612.jpg False\n",
      "dogImages/train/120.Pharaoh_hound/Pharaoh_hound_07726.jpg False\n",
      "dogImages/train/046.Cavalier_king_charles_spaniel/Cavalier_king_charles_spaniel_03305.jpg False\n",
      "dogImages/train/017.Bearded_collie/Bearded_collie_01244.jpg False\n",
      "dogImages/train/037.Brittany/Brittany_02614.jpg False\n",
      "dogImages/train/011.Australian_cattle_dog/Australian_cattle_dog_00723.jpg False\n",
      "dogImages/train/024.Bichon_frise/Bichon_frise_01771.jpg True\n",
      "dogImages/train/078.Great_dane/Great_dane_05318.jpg False\n",
      "dogImages/train/017.Bearded_collie/Bearded_collie_01214.jpg False\n",
      "dogImages/train/105.Neapolitan_mastiff/Neapolitan_mastiff_06938.jpg False\n",
      "dogImages/train/079.Great_pyrenees/Great_pyrenees_05391.jpg False\n",
      "dogImages/train/064.English_toy_spaniel/English_toy_spaniel_04506.jpg False\n",
      "dogImages/train/090.Italian_greyhound/Italian_greyhound_06130.jpg False\n",
      "dogImages/train/132.Xoloitzcuintli/Xoloitzcuintli_08292.jpg False\n",
      "dogImages/train/001.Affenpinscher/Affenpinscher_00016.jpg False\n",
      "dogImages/train/013.Australian_terrier/Australian_terrier_00912.jpg False\n",
      "dogImages/train/055.Curly-coated_retriever/Curly-coated_retriever_03897.jpg False\n",
      "dogImages/train/093.Kerry_blue_terrier/Kerry_blue_terrier_06298.jpg False\n",
      "dogImages/train/088.Irish_water_spaniel/Irish_water_spaniel_05958.jpg False\n",
      "dogImages/train/103.Mastiff/Mastiff_06853.jpg False\n",
      "dogImages/train/114.Otterhound/Otterhound_07422.jpg False\n",
      "dogImages/train/084.Icelandic_sheepdog/Icelandic_sheepdog_05705.jpg True\n",
      "dogImages/train/106.Newfoundland/Newfoundland_07004.jpg False\n",
      "dogImages/train/058.Dandie_dinmont_terrier/Dandie_dinmont_terrier_04106.jpg False\n",
      "dogImages/train/087.Irish_terrier/Irish_terrier_05942.jpg False\n",
      "dogImages/train/081.Greyhound/Greyhound_05545.jpg False\n",
      "dogImages/train/103.Mastiff/Mastiff_06813.jpg False\n",
      "dogImages/train/095.Kuvasz/Kuvasz_06385.jpg False\n",
      "dogImages/train/032.Boston_terrier/Boston_terrier_02272.jpg False\n",
      "dogImages/train/090.Italian_greyhound/Italian_greyhound_06133.jpg False\n",
      "dogImages/train/031.Borzoi/Borzoi_02156.jpg False\n",
      "dogImages/train/122.Pointer/Pointer_07836.jpg False\n",
      "dogImages/train/056.Dachshund/Dachshund_03948.jpg False\n",
      "dogImages/train/067.Finnish_spitz/Finnish_spitz_04673.jpg False\n",
      "dogImages/train/077.Gordon_setter/Gordon_setter_05300.jpg False\n",
      "dogImages/train/034.Boxer/Boxer_02411.jpg False\n",
      "dogImages/train/002.Afghan_hound/Afghan_hound_00121.jpg False\n",
      "dogImages/train/118.Pembroke_welsh_corgi/Pembroke_welsh_corgi_07680.jpg False\n",
      "dogImages/train/095.Kuvasz/Kuvasz_06418.jpg False\n",
      "dogImages/train/044.Cane_corso/Cane_corso_03102.jpg False\n",
      "dogImages/train/051.Chow_chow/Chow_chow_03617.jpg False\n",
      "dogImages/train/074.Giant_schnauzer/Giant_schnauzer_05084.jpg False\n",
      "dogImages/train/011.Australian_cattle_dog/Australian_cattle_dog_00744.jpg False\n",
      "96\n",
      "11\n"
     ]
    }
   ],
   "source": [
    "human_files_short = human_files[:100]\n",
    "dog_files_short = train_files[:100]\n",
    "# Do NOT modify the code above this line.\n",
    "\n",
    "## TODO: Test the performance of the face_detector algorithm \n",
    "## on the images in human_files_short and dog_files_short.\n",
    "human_count = 0\n",
    "for human_file in human_files_short:\n",
    "    human = face_detector(human_file)\n",
    "    print (human_file, human)\n",
    "    if human:\n",
    "        human_count += 1\n",
    "\n",
    "humany_dog_count = 0\n",
    "for dog_file in dog_files_short:\n",
    "    human = face_detector(dog_file)\n",
    "    print (dog_file, human)\n",
    "    if human:\n",
    "        humany_dog_count += 1\n",
    "\n",
    "print (human_count)\n",
    "print (humany_dog_count)"
   ]
  },
  {
   "cell_type": "markdown",
   "metadata": {},
   "source": [
    "__Question 2:__ This algorithmic choice necessitates that we communicate to the user that we accept human images only when they provide a clear view of a face (otherwise, we risk having unneccessarily frustrated users!). In your opinion, is this a reasonable expectation to pose on the user? If not, can you think of a way to detect humans in images that does not necessitate an image with a clearly presented face?\n",
    "\n",
    "__Answer:__\n",
    "\n",
    "It is reasonable to require a clear view of the face in order to detect human images. I can't tell if an image is contains a human face if that image is not clear enough, i therefore can't expect the model to be able to detect them in those situations. Despite wanting the users to provide images of high quality, we should still expect some images to not meet our standards, we can't rely on the discipline and good sense of our users. \n",
    "\n",
    "We suggest the face detector from OpenCV as a potential way to detect human images in your algorithm, but you are free to explore other approaches, especially approaches that make use of deep learning :).  Please use the code cell below to design and test your own face detection algorithm.  If you decide to pursue this _optional_ task, report performance on each of the datasets."
   ]
  },
  {
   "cell_type": "code",
   "execution_count": 9,
   "metadata": {
    "collapsed": true
   },
   "outputs": [],
   "source": [
    "## (Optional) TODO: Report the performance of another  \n",
    "## face detection algorithm on the LFW dataset\n",
    "### Feel free to use as many code cells as needed."
   ]
  },
  {
   "cell_type": "markdown",
   "metadata": {},
   "source": [
    "---\n",
    "<a id='step2'></a>\n",
    "## Step 2: Detect Dogs\n",
    "\n",
    "In this section, we use a pre-trained [ResNet-50](http://ethereon.github.io/netscope/#/gist/db945b393d40bfa26006) model to detect dogs in images.  Our first line of code downloads the ResNet-50 model, along with weights that have been trained on [ImageNet](http://www.image-net.org/), a very large, very popular dataset used for image classification and other vision tasks.  ImageNet contains over 10 million URLs, each linking to an image containing an object from one of [1000 categories](https://gist.github.com/yrevar/942d3a0ac09ec9e5eb3a).  Given an image, this pre-trained ResNet-50 model returns a prediction (derived from the available categories in ImageNet) for the object that is contained in the image."
   ]
  },
  {
   "cell_type": "code",
   "execution_count": 10,
   "metadata": {
    "collapsed": true
   },
   "outputs": [],
   "source": [
    "from keras.applications.resnet50 import ResNet50\n",
    "\n",
    "# define ResNet50 model\n",
    "ResNet50_model = ResNet50(weights='imagenet')"
   ]
  },
  {
   "cell_type": "markdown",
   "metadata": {},
   "source": [
    "### Pre-process the Data\n",
    "\n",
    "When using TensorFlow as backend, Keras CNNs require a 4D array (which we'll also refer to as a 4D tensor) as input, with shape\n",
    "\n",
    "$$\n",
    "(\\text{nb_samples}, \\text{rows}, \\text{columns}, \\text{channels}),\n",
    "$$\n",
    "\n",
    "where `nb_samples` corresponds to the total number of images (or samples), and `rows`, `columns`, and `channels` correspond to the number of rows, columns, and channels for each image, respectively.  \n",
    "\n",
    "The `path_to_tensor` function below takes a string-valued file path to a color image as input and returns a 4D tensor suitable for supplying to a Keras CNN.  The function first loads the image and resizes it to a square image that is $224 \\times 224$ pixels.  Next, the image is converted to an array, which is then resized to a 4D tensor.  In this case, since we are working with color images, each image has three channels.  Likewise, since we are processing a single image (or sample), the returned tensor will always have shape\n",
    "\n",
    "$$\n",
    "(1, 224, 224, 3).\n",
    "$$\n",
    "\n",
    "The `paths_to_tensor` function takes a numpy array of string-valued image paths as input and returns a 4D tensor with shape \n",
    "\n",
    "$$\n",
    "(\\text{nb_samples}, 224, 224, 3).\n",
    "$$\n",
    "\n",
    "Here, `nb_samples` is the number of samples, or number of images, in the supplied array of image paths.  It is best to think of `nb_samples` as the number of 3D tensors (where each 3D tensor corresponds to a different image) in your dataset!"
   ]
  },
  {
   "cell_type": "code",
   "execution_count": 11,
   "metadata": {
    "collapsed": true
   },
   "outputs": [],
   "source": [
    "from keras.preprocessing import image                  \n",
    "from tqdm import tqdm\n",
    "\n",
    "def path_to_tensor(img_path):\n",
    "    # loads RGB image as PIL.Image.Image type\n",
    "    img = image.load_img(img_path, target_size=(224, 224))\n",
    "    # convert PIL.Image.Image type to 3D tensor with shape (224, 224, 3)\n",
    "    x = image.img_to_array(img)\n",
    "    # convert 3D tensor to 4D tensor with shape (1, 224, 224, 3) and return 4D tensor\n",
    "    return np.expand_dims(x, axis=0)\n",
    "\n",
    "def paths_to_tensor(img_paths):\n",
    "    list_of_tensors = [path_to_tensor(img_path) for img_path in tqdm(img_paths)]\n",
    "    return np.vstack(list_of_tensors)"
   ]
  },
  {
   "cell_type": "markdown",
   "metadata": {},
   "source": [
    "### Making Predictions with ResNet-50\n",
    "\n",
    "Getting the 4D tensor ready for ResNet-50, and for any other pre-trained model in Keras, requires some additional processing.  First, the RGB image is converted to BGR by reordering the channels.  All pre-trained models have the additional normalization step that the mean pixel (expressed in RGB as $[103.939, 116.779, 123.68]$ and calculated from all pixels in all images in ImageNet) must be subtracted from every pixel in each image.  This is implemented in the imported function `preprocess_input`.  If you're curious, you can check the code for `preprocess_input` [here](https://github.com/fchollet/keras/blob/master/keras/applications/imagenet_utils.py).\n",
    "\n",
    "Now that we have a way to format our image for supplying to ResNet-50, we are now ready to use the model to extract the predictions.  This is accomplished with the `predict` method, which returns an array whose $i$-th entry is the model's predicted probability that the image belongs to the $i$-th ImageNet category.  This is implemented in the `ResNet50_predict_labels` function below.\n",
    "\n",
    "By taking the argmax of the predicted probability vector, we obtain an integer corresponding to the model's predicted object class, which we can identify with an object category through the use of this [dictionary](https://gist.github.com/yrevar/942d3a0ac09ec9e5eb3a). "
   ]
  },
  {
   "cell_type": "code",
   "execution_count": 12,
   "metadata": {
    "collapsed": true
   },
   "outputs": [],
   "source": [
    "from keras.applications.resnet50 import preprocess_input, decode_predictions\n",
    "\n",
    "def ResNet50_predict_labels(img_path):\n",
    "    # returns prediction vector for image located at img_path\n",
    "    img = preprocess_input(path_to_tensor(img_path))\n",
    "    return np.argmax(ResNet50_model.predict(img))"
   ]
  },
  {
   "cell_type": "markdown",
   "metadata": {},
   "source": [
    "### Write a Dog Detector\n",
    "\n",
    "While looking at the [dictionary](https://gist.github.com/yrevar/942d3a0ac09ec9e5eb3a), you will notice that the categories corresponding to dogs appear in an uninterrupted sequence and correspond to dictionary keys 151-268, inclusive, to include all categories from `'Chihuahua'` to `'Mexican hairless'`.  Thus, in order to check to see if an image is predicted to contain a dog by the pre-trained ResNet-50 model, we need only check if the `ResNet50_predict_labels` function above returns a value between 151 and 268 (inclusive).\n",
    "\n",
    "We use these ideas to complete the `dog_detector` function below, which returns `True` if a dog is detected in an image (and `False` if not)."
   ]
  },
  {
   "cell_type": "code",
   "execution_count": 13,
   "metadata": {
    "collapsed": true
   },
   "outputs": [],
   "source": [
    "### returns \"True\" if a dog is detected in the image stored at img_path\n",
    "def dog_detector(img_path):\n",
    "    prediction = ResNet50_predict_labels(img_path)\n",
    "    return ((prediction <= 268) & (prediction >= 151)) "
   ]
  },
  {
   "cell_type": "markdown",
   "metadata": {},
   "source": [
    "### (IMPLEMENTATION) Assess the Dog Detector\n",
    "\n",
    "__Question 3:__ Use the code cell below to test the performance of your `dog_detector` function.  \n",
    "- What percentage of the images in `human_files_short` have a detected dog?  \n",
    "- What percentage of the images in `dog_files_short` have a detected dog?\n",
    "\n",
    "__Answer:__ \n",
    "3% of human files have a detected dog\n",
    "100% of dog files have a detected dog"
   ]
  },
  {
   "cell_type": "code",
   "execution_count": 14,
   "metadata": {},
   "outputs": [
    {
     "name": "stdout",
     "output_type": "stream",
     "text": [
      "dogImages/train/095.Kuvasz/Kuvasz_06442.jpg True\n",
      "dogImages/train/057.Dalmatian/Dalmatian_04054.jpg True\n",
      "dogImages/train/088.Irish_water_spaniel/Irish_water_spaniel_06014.jpg True\n",
      "dogImages/train/008.American_staffordshire_terrier/American_staffordshire_terrier_00596.jpg True\n",
      "dogImages/train/008.American_staffordshire_terrier/American_staffordshire_terrier_00563.jpg True\n",
      "dogImages/train/063.English_springer_spaniel/English_springer_spaniel_04469.jpg True\n",
      "dogImages/train/054.Collie/Collie_03789.jpg True\n",
      "dogImages/train/119.Petit_basset_griffon_vendeen/Petit_basset_griffon_vendeen_07705.jpg True\n",
      "dogImages/train/009.American_water_spaniel/American_water_spaniel_00625.jpg True\n",
      "dogImages/train/081.Greyhound/Greyhound_05559.jpg True\n",
      "dogImages/train/012.Australian_shepherd/Australian_shepherd_00814.jpg True\n",
      "dogImages/train/071.German_shepherd_dog/German_shepherd_dog_04890.jpg True\n",
      "dogImages/train/015.Basset_hound/Basset_hound_01094.jpg True\n",
      "dogImages/train/053.Cocker_spaniel/Cocker_spaniel_03768.jpg True\n",
      "dogImages/train/099.Lhasa_apso/Lhasa_apso_06646.jpg True\n",
      "dogImages/train/009.American_water_spaniel/American_water_spaniel_00628.jpg True\n",
      "dogImages/train/056.Dachshund/Dachshund_03935.jpg True\n",
      "dogImages/train/082.Havanese/Havanese_05627.jpg True\n",
      "dogImages/train/117.Pekingese/Pekingese_07595.jpg True\n",
      "dogImages/train/051.Chow_chow/Chow_chow_03650.jpg True\n",
      "dogImages/train/097.Lakeland_terrier/Lakeland_terrier_06526.jpg True\n",
      "dogImages/train/057.Dalmatian/Dalmatian_04023.jpg True\n",
      "dogImages/train/096.Labrador_retriever/Labrador_retriever_06474.jpg True\n",
      "dogImages/train/106.Newfoundland/Newfoundland_06989.jpg True\n",
      "dogImages/train/117.Pekingese/Pekingese_07559.jpg True\n",
      "dogImages/train/087.Irish_terrier/Irish_terrier_05904.jpg True\n",
      "dogImages/train/067.Finnish_spitz/Finnish_spitz_04672.jpg True\n",
      "dogImages/train/005.Alaskan_malamute/Alaskan_malamute_00370.jpg True\n",
      "dogImages/train/023.Bernese_mountain_dog/Bernese_mountain_dog_01621.jpg True\n",
      "dogImages/train/106.Newfoundland/Newfoundland_06982.jpg True\n",
      "dogImages/train/039.Bull_terrier/Bull_terrier_02805.jpg True\n",
      "dogImages/train/090.Italian_greyhound/Italian_greyhound_06108.jpg True\n",
      "dogImages/train/097.Lakeland_terrier/Lakeland_terrier_06516.jpg True\n",
      "dogImages/train/012.Australian_shepherd/Australian_shepherd_00855.jpg True\n",
      "dogImages/train/086.Irish_setter/Irish_setter_05810.jpg True\n",
      "dogImages/train/102.Manchester_terrier/Manchester_terrier_06806.jpg True\n",
      "dogImages/train/119.Petit_basset_griffon_vendeen/Petit_basset_griffon_vendeen_07694.jpg True\n",
      "dogImages/train/057.Dalmatian/Dalmatian_04086.jpg True\n",
      "dogImages/train/015.Basset_hound/Basset_hound_01115.jpg True\n",
      "dogImages/train/062.English_setter/English_setter_04407.jpg True\n",
      "dogImages/train/026.Black_russian_terrier/Black_russian_terrier_01822.jpg True\n",
      "dogImages/train/018.Beauceron/Beauceron_01279.jpg True\n",
      "dogImages/train/017.Bearded_collie/Bearded_collie_01245.jpg True\n",
      "dogImages/train/121.Plott/Plott_07784.jpg True\n",
      "dogImages/train/047.Chesapeake_bay_retriever/Chesapeake_bay_retriever_03365.jpg True\n",
      "dogImages/train/076.Golden_retriever/Golden_retriever_05230.jpg True\n",
      "dogImages/train/039.Bull_terrier/Bull_terrier_02751.jpg True\n",
      "dogImages/train/054.Collie/Collie_03838.jpg True\n",
      "dogImages/train/027.Bloodhound/Bloodhound_01946.jpg True\n",
      "dogImages/train/110.Norwegian_lundehund/Norwegian_lundehund_07220.jpg True\n",
      "dogImages/train/082.Havanese/Havanese_05616.jpg True\n",
      "dogImages/train/045.Cardigan_welsh_corgi/Cardigan_welsh_corgi_03237.jpg True\n",
      "dogImages/train/040.Bulldog/Bulldog_02843.jpg True\n",
      "dogImages/train/085.Irish_red_and_white_setter/Irish_red_and_white_setter_05779.jpg True\n",
      "dogImages/train/006.American_eskimo_dog/American_eskimo_dog_00398.jpg True\n",
      "dogImages/train/019.Bedlington_terrier/Bedlington_terrier_01374.jpg True\n",
      "dogImages/train/010.Anatolian_shepherd_dog/Anatolian_shepherd_dog_00681.jpg True\n",
      "dogImages/train/008.American_staffordshire_terrier/American_staffordshire_terrier_00612.jpg True\n",
      "dogImages/train/120.Pharaoh_hound/Pharaoh_hound_07726.jpg True\n",
      "dogImages/train/046.Cavalier_king_charles_spaniel/Cavalier_king_charles_spaniel_03305.jpg True\n",
      "dogImages/train/017.Bearded_collie/Bearded_collie_01244.jpg True\n",
      "dogImages/train/037.Brittany/Brittany_02614.jpg True\n",
      "dogImages/train/011.Australian_cattle_dog/Australian_cattle_dog_00723.jpg True\n",
      "dogImages/train/024.Bichon_frise/Bichon_frise_01771.jpg True\n",
      "dogImages/train/078.Great_dane/Great_dane_05318.jpg True\n",
      "dogImages/train/017.Bearded_collie/Bearded_collie_01214.jpg True\n",
      "dogImages/train/105.Neapolitan_mastiff/Neapolitan_mastiff_06938.jpg True\n",
      "dogImages/train/079.Great_pyrenees/Great_pyrenees_05391.jpg True\n",
      "dogImages/train/064.English_toy_spaniel/English_toy_spaniel_04506.jpg True\n",
      "dogImages/train/090.Italian_greyhound/Italian_greyhound_06130.jpg True\n",
      "dogImages/train/132.Xoloitzcuintli/Xoloitzcuintli_08292.jpg True\n",
      "dogImages/train/001.Affenpinscher/Affenpinscher_00016.jpg True\n",
      "dogImages/train/013.Australian_terrier/Australian_terrier_00912.jpg True\n",
      "dogImages/train/055.Curly-coated_retriever/Curly-coated_retriever_03897.jpg True\n",
      "dogImages/train/093.Kerry_blue_terrier/Kerry_blue_terrier_06298.jpg True\n",
      "dogImages/train/088.Irish_water_spaniel/Irish_water_spaniel_05958.jpg True\n",
      "dogImages/train/103.Mastiff/Mastiff_06853.jpg True\n",
      "dogImages/train/114.Otterhound/Otterhound_07422.jpg True\n",
      "dogImages/train/084.Icelandic_sheepdog/Icelandic_sheepdog_05705.jpg True\n",
      "dogImages/train/106.Newfoundland/Newfoundland_07004.jpg True\n",
      "dogImages/train/058.Dandie_dinmont_terrier/Dandie_dinmont_terrier_04106.jpg True\n",
      "dogImages/train/087.Irish_terrier/Irish_terrier_05942.jpg True\n",
      "dogImages/train/081.Greyhound/Greyhound_05545.jpg True\n",
      "dogImages/train/103.Mastiff/Mastiff_06813.jpg True\n",
      "dogImages/train/095.Kuvasz/Kuvasz_06385.jpg True\n",
      "dogImages/train/032.Boston_terrier/Boston_terrier_02272.jpg True\n",
      "dogImages/train/090.Italian_greyhound/Italian_greyhound_06133.jpg True\n",
      "dogImages/train/031.Borzoi/Borzoi_02156.jpg True\n",
      "dogImages/train/122.Pointer/Pointer_07836.jpg True\n",
      "dogImages/train/056.Dachshund/Dachshund_03948.jpg True\n",
      "dogImages/train/067.Finnish_spitz/Finnish_spitz_04673.jpg True\n",
      "dogImages/train/077.Gordon_setter/Gordon_setter_05300.jpg True\n",
      "dogImages/train/034.Boxer/Boxer_02411.jpg True\n",
      "dogImages/train/002.Afghan_hound/Afghan_hound_00121.jpg True\n",
      "dogImages/train/118.Pembroke_welsh_corgi/Pembroke_welsh_corgi_07680.jpg True\n",
      "dogImages/train/095.Kuvasz/Kuvasz_06418.jpg True\n",
      "dogImages/train/044.Cane_corso/Cane_corso_03102.jpg True\n",
      "dogImages/train/051.Chow_chow/Chow_chow_03617.jpg True\n",
      "dogImages/train/074.Giant_schnauzer/Giant_schnauzer_05084.jpg True\n",
      "dogImages/train/011.Australian_cattle_dog/Australian_cattle_dog_00744.jpg True\n",
      "lfw/Steve_Mariucci/Steve_Mariucci_0001.jpg False\n",
      "lfw/Tom_Izzo/Tom_Izzo_0001.jpg False\n",
      "lfw/Winona_Ryder/Winona_Ryder_0022.jpg False\n",
      "lfw/Carla_Myers/Carla_Myers_0002.jpg False\n",
      "lfw/Serena_Williams/Serena_Williams_0041.jpg False\n",
      "lfw/Nestor_Gonzalez/Nestor_Gonzalez_0001.jpg False\n",
      "lfw/Nestor_Kirchner/Nestor_Kirchner_0002.jpg False\n",
      "lfw/Luis_Gonzalez_Macchi/Luis_Gonzalez_Macchi_0004.jpg False\n",
      "lfw/Paulina_Rodriguez_Davila/Paulina_Rodriguez_Davila_0001.jpg False\n",
      "lfw/Julius_Barnes/Julius_Barnes_0001.jpg False\n",
      "lfw/Teri_ORourke/Teri_ORourke_0001.jpg False\n",
      "lfw/Pat_Rochester/Pat_Rochester_0001.jpg False\n",
      "lfw/Robert_Redford/Robert_Redford_0005.jpg False\n",
      "lfw/Bob_Dole/Bob_Dole_0001.jpg False\n",
      "lfw/George_W_Bush/George_W_Bush_0244.jpg False\n",
      "lfw/King_Abdullah_II/King_Abdullah_II_0005.jpg False\n",
      "lfw/Rob_Moore/Rob_Moore_0001.jpg False\n",
      "lfw/Hans_Blix/Hans_Blix_0036.jpg False\n",
      "lfw/Janet_Crawford/Janet_Crawford_0001.jpg False\n",
      "lfw/Donald_Rumsfeld/Donald_Rumsfeld_0077.jpg False\n",
      "lfw/George_Karl/George_Karl_0002.jpg False\n",
      "lfw/Pete_Sampras/Pete_Sampras_0017.jpg False\n",
      "lfw/Dick_Clark/Dick_Clark_0002.jpg False\n",
      "lfw/John_Reilly/John_Reilly_0001.jpg False\n",
      "lfw/Tom_Osborne/Tom_Osborne_0001.jpg False\n",
      "lfw/George_W_Bush/George_W_Bush_0191.jpg False\n",
      "lfw/Lucio_Gutierrez/Lucio_Gutierrez_0007.jpg False\n",
      "lfw/Bob_Stoops/Bob_Stoops_0001.jpg False\n",
      "lfw/Charles_Taylor/Charles_Taylor_0004.jpg False\n",
      "lfw/Mark_Wahlberg/Mark_Wahlberg_0002.jpg False\n",
      "lfw/Jean_Brumley/Jean_Brumley_0001.jpg False\n",
      "lfw/Tippi_Hedren/Tippi_Hedren_0002.jpg True\n",
      "lfw/Peter_Care/Peter_Care_0001.jpg False\n",
      "lfw/Ariel_Sharon/Ariel_Sharon_0033.jpg False\n"
     ]
    },
    {
     "name": "stdout",
     "output_type": "stream",
     "text": [
      "lfw/Ian_Knop/Ian_Knop_0001.jpg False\n",
      "lfw/Jessica_Biel/Jessica_Biel_0001.jpg False\n",
      "lfw/Jim_Furyk/Jim_Furyk_0005.jpg False\n",
      "lfw/Azmi_Bishara/Azmi_Bishara_0001.jpg False\n",
      "lfw/Vladimir_Putin/Vladimir_Putin_0047.jpg False\n",
      "lfw/Eric_Staal/Eric_Staal_0001.jpg False\n",
      "lfw/George_W_Bush/George_W_Bush_0387.jpg False\n",
      "lfw/Natasha_Henstridge/Natasha_Henstridge_0001.jpg False\n",
      "lfw/Alessandro_Nesta/Alessandro_Nesta_0001.jpg False\n",
      "lfw/Paul_Bremer/Paul_Bremer_0007.jpg False\n",
      "lfw/Jeb_Bush/Jeb_Bush_0006.jpg False\n",
      "lfw/Laura_Bush/Laura_Bush_0017.jpg False\n",
      "lfw/George_W_Bush/George_W_Bush_0392.jpg False\n",
      "lfw/Amelie_Mauresmo/Amelie_Mauresmo_0015.jpg False\n",
      "lfw/Andy_Roddick/Andy_Roddick_0007.jpg False\n",
      "lfw/Venus_Williams/Venus_Williams_0010.jpg False\n",
      "lfw/Sarah_Hughes/Sarah_Hughes_0006.jpg False\n",
      "lfw/James_Franco/James_Franco_0002.jpg False\n",
      "lfw/Abdul_Majeed_Shobokshi/Abdul_Majeed_Shobokshi_0001.jpg False\n",
      "lfw/Andre_Agassi/Andre_Agassi_0012.jpg False\n",
      "lfw/Kurt_Russell/Kurt_Russell_0002.jpg False\n",
      "lfw/Eduardo_Duhalde/Eduardo_Duhalde_0012.jpg False\n",
      "lfw/Jerry_Sexton/Jerry_Sexton_0001.jpg False\n",
      "lfw/Claude_Jorda/Claude_Jorda_0001.jpg False\n",
      "lfw/Jacky_Cheung/Jacky_Cheung_0001.jpg True\n",
      "lfw/Joe_Torre/Joe_Torre_0004.jpg False\n",
      "lfw/Hank_Aaron/Hank_Aaron_0001.jpg False\n",
      "lfw/Wesley_Clark/Wesley_Clark_0001.jpg False\n",
      "lfw/Barbara_Boxer/Barbara_Boxer_0001.jpg False\n",
      "lfw/Pete_Carroll/Pete_Carroll_0003.jpg False\n",
      "lfw/Francis_Crick/Francis_Crick_0001.jpg False\n",
      "lfw/Pierce_Brosnan/Pierce_Brosnan_0007.jpg False\n",
      "lfw/Tessa_Jowell/Tessa_Jowell_0001.jpg False\n",
      "lfw/Lance_Armstrong/Lance_Armstrong_0012.jpg False\n",
      "lfw/Jim_Taylor/Jim_Taylor_0001.jpg False\n",
      "lfw/Tony_Blair/Tony_Blair_0137.jpg False\n",
      "lfw/Gianni_Agnelli/Gianni_Agnelli_0001.jpg False\n",
      "lfw/Sharon_Frey/Sharon_Frey_0001.jpg False\n",
      "lfw/Glen_Sather/Glen_Sather_0001.jpg False\n",
      "lfw/Barry_Alvarez/Barry_Alvarez_0001.jpg False\n",
      "lfw/Len_Jenoff/Len_Jenoff_0001.jpg False\n",
      "lfw/Bob_Crippen/Bob_Crippen_0001.jpg False\n",
      "lfw/Tony_Blair/Tony_Blair_0109.jpg False\n",
      "lfw/Robin_Williams/Robin_Williams_0001.jpg False\n",
      "lfw/Lleyton_Hewitt/Lleyton_Hewitt_0001.jpg False\n",
      "lfw/Jim_Piper/Jim_Piper_0001.jpg False\n",
      "lfw/Sean_OKeefe/Sean_OKeefe_0002.jpg False\n",
      "lfw/Ricardo_Lagos/Ricardo_Lagos_0013.jpg False\n",
      "lfw/Astrid_Betancourt/Astrid_Betancourt_0001.jpg False\n",
      "lfw/Paul_Burrell/Paul_Burrell_0011.jpg False\n",
      "lfw/Lawrence_Roberts/Lawrence_Roberts_0001.jpg False\n",
      "lfw/George_W_Bush/George_W_Bush_0455.jpg False\n",
      "lfw/Costas_Simitis/Costas_Simitis_0004.jpg False\n",
      "lfw/Estella_Warren/Estella_Warren_0001.jpg False\n",
      "lfw/Jim_Jeffords/Jim_Jeffords_0001.jpg False\n",
      "lfw/Michael_Rolinee/Michael_Rolinee_0001.jpg False\n",
      "lfw/Clint_Eastwood/Clint_Eastwood_0001.jpg False\n",
      "lfw/Yossi_Beilin/Yossi_Beilin_0002.jpg False\n",
      "lfw/Julio_Cesar_Franco/Julio_Cesar_Franco_0001.jpg False\n",
      "lfw/Steve_Ballmer/Steve_Ballmer_0001.jpg False\n",
      "lfw/Larry_Tanenbaum/Larry_Tanenbaum_0001.jpg False\n",
      "lfw/Jake_Gyllenhaal/Jake_Gyllenhaal_0004.jpg True\n",
      "lfw/Mikhail_Kasyanov/Mikhail_Kasyanov_0004.jpg False\n",
      "lfw/John_Danforth/John_Danforth_0001.jpg False\n",
      "lfw/Alejandro_Toledo/Alejandro_Toledo_0004.jpg False\n",
      "lfw/Gerhard_Schroeder/Gerhard_Schroeder_0076.jpg False\n",
      "100\n",
      "3\n"
     ]
    }
   ],
   "source": [
    "### TODO: Test the performance of the dog_detector function\n",
    "### on the images in human_files_short and dog_files_short.\n",
    "\n",
    "dog_count = 0\n",
    "\n",
    "\n",
    "for dog_file in dog_files_short:\n",
    "    dog = dog_detector(dog_file)\n",
    "    print (dog_file, dog)\n",
    "    if dog:\n",
    "        dog_count += 1\n",
    "\n",
    "doggy_human_count = 0\n",
    "for human_file in human_files_short:\n",
    "    dog = dog_detector(human_file)\n",
    "    print (human_file, dog)\n",
    "    if dog:\n",
    "        doggy_human_count += 1\n",
    "print (dog_count)\n",
    "print (doggy_human_count)"
   ]
  },
  {
   "cell_type": "markdown",
   "metadata": {},
   "source": [
    "---\n",
    "<a id='step3'></a>\n",
    "## Step 3: Create a CNN to Classify Dog Breeds (from Scratch)\n",
    "\n",
    "Now that we have functions for detecting humans and dogs in images, we need a way to predict breed from images.  In this step, you will create a CNN that classifies dog breeds.  You must create your CNN _from scratch_ (so, you can't use transfer learning _yet_!), and you must attain a test accuracy of at least 1%.  In Step 5 of this notebook, you will have the opportunity to use transfer learning to create a CNN that attains greatly improved accuracy.\n",
    "\n",
    "Be careful with adding too many trainable layers!  More parameters means longer training, which means you are more likely to need a GPU to accelerate the training process.  Thankfully, Keras provides a handy estimate of the time that each epoch is likely to take; you can extrapolate this estimate to figure out how long it will take for your algorithm to train. \n",
    "\n",
    "We mention that the task of assigning breed to dogs from images is considered exceptionally challenging.  To see why, consider that *even a human* would have great difficulty in distinguishing between a Brittany and a Welsh Springer Spaniel.  \n",
    "\n",
    "Brittany | Welsh Springer Spaniel\n",
    "- | - \n",
    "<img src=\"images/Brittany_02625.jpg\" width=\"100\"> | <img src=\"images/Welsh_springer_spaniel_08203.jpg\" width=\"200\">\n",
    "\n",
    "It is not difficult to find other dog breed pairs with minimal inter-class variation (for instance, Curly-Coated Retrievers and American Water Spaniels).  \n",
    "\n",
    "Curly-Coated Retriever | American Water Spaniel\n",
    "- | -\n",
    "<img src=\"images/Curly-coated_retriever_03896.jpg\" width=\"200\"> | <img src=\"images/American_water_spaniel_00648.jpg\" width=\"200\">\n",
    "\n",
    "\n",
    "Likewise, recall that labradors come in yellow, chocolate, and black.  Your vision-based algorithm will have to conquer this high intra-class variation to determine how to classify all of these different shades as the same breed.  \n",
    "\n",
    "Yellow Labrador | Chocolate Labrador | Black Labrador\n",
    "- | -\n",
    "<img src=\"images/Labrador_retriever_06457.jpg\" width=\"150\"> | <img src=\"images/Labrador_retriever_06455.jpg\" width=\"240\"> | <img src=\"images/Labrador_retriever_06449.jpg\" width=\"220\">\n",
    "\n",
    "We also mention that random chance presents an exceptionally low bar: setting aside the fact that the classes are slightly imabalanced, a random guess will provide a correct answer roughly 1 in 133 times, which corresponds to an accuracy of less than 1%.  \n",
    "\n",
    "Remember that the practice is far ahead of the theory in deep learning.  Experiment with many different architectures, and trust your intuition.  And, of course, have fun! \n",
    "\n",
    "### Pre-process the Data\n",
    "\n",
    "We rescale the images by dividing every pixel in every image by 255."
   ]
  },
  {
   "cell_type": "code",
   "execution_count": 21,
   "metadata": {},
   "outputs": [
    {
     "name": "stderr",
     "output_type": "stream",
     "text": [
      "100%|██████████| 6680/6680 [01:45<00:00, 63.55it/s] \n",
      "100%|██████████| 835/835 [00:14<00:00, 57.41it/s]\n",
      "100%|██████████| 836/836 [00:10<00:00, 76.57it/s] \n"
     ]
    }
   ],
   "source": [
    "from PIL import ImageFile                            \n",
    "ImageFile.LOAD_TRUNCATED_IMAGES = True                 \n",
    "\n",
    "# pre-process the data for Keras\n",
    "train_tensors = paths_to_tensor(train_files).astype('float32')/255\n",
    "valid_tensors = paths_to_tensor(valid_files).astype('float32')/255\n",
    "test_tensors = paths_to_tensor(test_files).astype('float32')/255"
   ]
  },
  {
   "cell_type": "markdown",
   "metadata": {},
   "source": [
    "### (IMPLEMENTATION) Model Architecture\n",
    "\n",
    "Create a CNN to classify dog breed.  At the end of your code cell block, summarize the layers of your model by executing the line:\n",
    "    \n",
    "        model.summary()\n",
    "\n",
    "We have imported some Python modules to get you started, but feel free to import as many modules as you need.  If you end up getting stuck, here's a hint that specifies a model that trains relatively fast on CPU and attains >1% test accuracy in 5 epochs:\n",
    "\n",
    "![Sample CNN](images/sample_cnn.png)\n",
    "           \n",
    "__Question 4:__ Outline the steps you took to get to your final CNN architecture and your reasoning at each step.  If you chose to use the hinted architecture above, describe why you think that CNN architecture should work well for the image classification task.\n",
    "\n",
    "__Answer:__ \n",
    "\n",
    "I have used this architecture before for a similar image classifcation problem, on images of about the same size. It worked before so i used it as a starting point. \n",
    "\n",
    "The first convolutional layer extracts the features from the images. I chose 64 filters as the breed classification seemed subtle, so i wanted a high number of features to help distinguish the breeds. (4,4) features were used for the same reason. Stride was set to 3 to reduce the overlap between each convolution. \n",
    "\n",
    "The second convolutional layer is to try and draw mroe gneralised features out. This reduces overfitting and reduces the size of the images that the fully connected layer will use later. 32 filters was chosen because i wanted to reduce the size of the output and have more general features. \n",
    "\n",
    "The max pooling layer helps prevent overfitting. It generalises the features even further and reduces the size of the images greatly. This helps prevent overfitting and reduces the time it takes the model to run. \n",
    "\n",
    "The flatten layer is required before putting the data into the neural network. \n",
    "\n",
    "The hidden layer of the neural network isa 64 node layer with relu activation. 64 nodes were chosen as this number had worked for me before when handling images of a similar size and a classification problem of similar difficulty. The relu function was chosen because it prevents the vanishing gradient problem. \n",
    "\n",
    "The final layer is the output layer, it has 133 nodes as there are 133 breeds the model should output. The softmax function is appropriate as it works similarly to the sigmoid, but can be used when there are more than 2 output classifications. "
   ]
  },
  {
   "cell_type": "code",
   "execution_count": null,
   "metadata": {
    "collapsed": true
   },
   "outputs": [],
   "source": [
    "import keras # not required if running above cells but easier for me to work offline with\n",
    "from keras.layers import Conv2D, MaxPooling2D, GlobalAveragePooling2D\n",
    "from keras.layers import Dropout, Flatten, Dense\n",
    "from keras.models import Sequential\n",
    "\n",
    "model = Sequential()\n",
    "\n",
    "### TODO: Define your architecture.\n",
    "model.add(Conv2D(64, (4,4),  strides=3, input_shape=(224,224,3)))\n",
    "model.add(Conv2D(32, (2,2)))\n",
    "model.add(MaxPooling2D(pool_size=(2,2)))\n",
    "model.add(Flatten())\n",
    "model.add(Dense(64,activation='relu'))\n",
    "\n",
    "model.add(Dense(133, activation='softmax'))\n",
    "\n",
    "model.summary()"
   ]
  },
  {
   "cell_type": "markdown",
   "metadata": {},
   "source": [
    "### Compile the Model"
   ]
  },
  {
   "cell_type": "code",
   "execution_count": null,
   "metadata": {
    "collapsed": true
   },
   "outputs": [],
   "source": [
    "model.compile(optimizer='rmsprop', loss='categorical_crossentropy', metrics=['accuracy'])"
   ]
  },
  {
   "cell_type": "markdown",
   "metadata": {},
   "source": [
    "### (IMPLEMENTATION) Train the Model\n",
    "\n",
    "Train your model in the code cell below.  Use model checkpointing to save the model that attains the best validation loss.\n",
    "\n",
    "You are welcome to [augment the training data](https://blog.keras.io/building-powerful-image-classification-models-using-very-little-data.html), but this is not a requirement. "
   ]
  },
  {
   "cell_type": "code",
   "execution_count": 8,
   "metadata": {
    "scrolled": true
   },
   "outputs": [
    {
     "name": "stdout",
     "output_type": "stream",
     "text": [
      "Train on 6680 samples, validate on 835 samples\n",
      "Epoch 1/10\n",
      "6660/6680 [============================>.] - ETA: 0s - loss: 5.0113 - acc: 0.0095Epoch 00000: val_loss improved from inf to 4.88371, saving model to saved_models/weights.best.from_scratch.hdf5\n",
      "6680/6680 [==============================] - 201s - loss: 5.0109 - acc: 0.0094 - val_loss: 4.8837 - val_acc: 0.0108\n",
      "Epoch 2/10\n",
      "6660/6680 [============================>.] - ETA: 0s - loss: 4.8811 - acc: 0.0104Epoch 00001: val_loss improved from 4.88371 to 4.87893, saving model to saved_models/weights.best.from_scratch.hdf5\n",
      "6680/6680 [==============================] - 201s - loss: 4.8811 - acc: 0.0103 - val_loss: 4.8789 - val_acc: 0.0108\n",
      "Epoch 3/10\n",
      "6660/6680 [============================>.] - ETA: 0s - loss: 4.8763 - acc: 0.0114Epoch 00002: val_loss improved from 4.87893 to 4.87541, saving model to saved_models/weights.best.from_scratch.hdf5\n",
      "6680/6680 [==============================] - 211s - loss: 4.8762 - acc: 0.0115 - val_loss: 4.8754 - val_acc: 0.0108\n",
      "Epoch 4/10\n",
      "6660/6680 [============================>.] - ETA: 0s - loss: 4.8725 - acc: 0.0116Epoch 00003: val_loss improved from 4.87541 to 4.87288, saving model to saved_models/weights.best.from_scratch.hdf5\n",
      "6680/6680 [==============================] - 210s - loss: 4.8725 - acc: 0.0115 - val_loss: 4.8729 - val_acc: 0.0108\n",
      "Epoch 5/10\n",
      "6660/6680 [============================>.] - ETA: 0s - loss: 4.8698 - acc: 0.0116Epoch 00004: val_loss improved from 4.87288 to 4.87124, saving model to saved_models/weights.best.from_scratch.hdf5\n",
      "6680/6680 [==============================] - 210s - loss: 4.8698 - acc: 0.0115 - val_loss: 4.8712 - val_acc: 0.0108\n",
      "Epoch 6/10\n",
      "6660/6680 [============================>.] - ETA: 0s - loss: 4.8678 - acc: 0.0116Epoch 00005: val_loss improved from 4.87124 to 4.87006, saving model to saved_models/weights.best.from_scratch.hdf5\n",
      "6680/6680 [==============================] - 211s - loss: 4.8679 - acc: 0.0115 - val_loss: 4.8701 - val_acc: 0.0108\n",
      "Epoch 7/10\n",
      "6660/6680 [============================>.] - ETA: 0s - loss: 4.8663 - acc: 0.0116Epoch 00006: val_loss improved from 4.87006 to 4.86927, saving model to saved_models/weights.best.from_scratch.hdf5\n",
      "6680/6680 [==============================] - 212s - loss: 4.8664 - acc: 0.0115 - val_loss: 4.8693 - val_acc: 0.0108\n",
      "Epoch 8/10\n",
      "6660/6680 [============================>.] - ETA: 0s - loss: 4.8654 - acc: 0.0116Epoch 00007: val_loss improved from 4.86927 to 4.86885, saving model to saved_models/weights.best.from_scratch.hdf5\n",
      "6680/6680 [==============================] - 211s - loss: 4.8653 - acc: 0.0115 - val_loss: 4.8689 - val_acc: 0.0108\n",
      "Epoch 9/10\n",
      "6660/6680 [============================>.] - ETA: 0s - loss: 4.8648 - acc: 0.0116Epoch 00008: val_loss improved from 4.86885 to 4.86866, saving model to saved_models/weights.best.from_scratch.hdf5\n",
      "6680/6680 [==============================] - 221s - loss: 4.8647 - acc: 0.0115 - val_loss: 4.8687 - val_acc: 0.0108\n",
      "Epoch 10/10\n",
      "6660/6680 [============================>.] - ETA: 0s - loss: 4.8641 - acc: 0.0116Epoch 00009: val_loss improved from 4.86866 to 4.86857, saving model to saved_models/weights.best.from_scratch.hdf5\n",
      "6680/6680 [==============================] - 222s - loss: 4.8641 - acc: 0.0115 - val_loss: 4.8686 - val_acc: 0.0108\n"
     ]
    },
    {
     "data": {
      "text/plain": [
       "<keras.callbacks.History at 0x7f7256dc7ef0>"
      ]
     },
     "execution_count": 8,
     "metadata": {},
     "output_type": "execute_result"
    }
   ],
   "source": [
    "from keras.callbacks import ModelCheckpoint  \n",
    "\n",
    "### TODO: specify the number of epochs that you would like to use to train the model.\n",
    "\n",
    "epochs = 10\n",
    "\n",
    "### Do NOT modify the code below this line.\n",
    "\n",
    "checkpointer = ModelCheckpoint(filepath='saved_models/weights.best.from_scratch.hdf5', \n",
    "                               verbose=1, save_best_only=True)\n",
    "\n",
    "model.fit(train_tensors, train_targets, \n",
    "          validation_data=(valid_tensors, valid_targets),\n",
    "          epochs=epochs, batch_size=20, callbacks=[checkpointer], verbose=1)"
   ]
  },
  {
   "cell_type": "markdown",
   "metadata": {},
   "source": [
    "### Load the Model with the Best Validation Loss"
   ]
  },
  {
   "cell_type": "code",
   "execution_count": 9,
   "metadata": {
    "collapsed": true
   },
   "outputs": [],
   "source": [
    "model.load_weights('saved_models/weights.best.from_scratch.hdf5')"
   ]
  },
  {
   "cell_type": "markdown",
   "metadata": {},
   "source": [
    "### Test the Model\n",
    "\n",
    "Try out your model on the test dataset of dog images.  Ensure that your test accuracy is greater than 1%."
   ]
  },
  {
   "cell_type": "code",
   "execution_count": 10,
   "metadata": {},
   "outputs": [
    {
     "name": "stdout",
     "output_type": "stream",
     "text": [
      "Test accuracy: 1.1962%\n"
     ]
    }
   ],
   "source": [
    "# get index of predicted dog breed for each image in test set\n",
    "dog_breed_predictions = [np.argmax(model.predict(np.expand_dims(tensor, axis=0))) for tensor in test_tensors]\n",
    "\n",
    "# report test accuracy\n",
    "test_accuracy = 100*np.sum(np.array(dog_breed_predictions)==np.argmax(test_targets, axis=1))/len(dog_breed_predictions)\n",
    "print('Test accuracy: %.4f%%' % test_accuracy)"
   ]
  },
  {
   "cell_type": "markdown",
   "metadata": {},
   "source": [
    "---\n",
    "<a id='step4'></a>\n",
    "## Step 4: Use a CNN to Classify Dog Breeds\n",
    "\n",
    "To reduce training time without sacrificing accuracy, we show you how to train a CNN using transfer learning.  In the following step, you will get a chance to use transfer learning to train your own CNN.\n",
    "\n",
    "### Obtain Bottleneck Features"
   ]
  },
  {
   "cell_type": "code",
   "execution_count": 16,
   "metadata": {
    "collapsed": true
   },
   "outputs": [],
   "source": [
    "bottleneck_features = np.load('bottleneck_features/DogVGG16Data.npz')\n",
    "train_VGG16 = bottleneck_features['train']\n",
    "valid_VGG16 = bottleneck_features['valid']\n",
    "test_VGG16 = bottleneck_features['test']"
   ]
  },
  {
   "cell_type": "markdown",
   "metadata": {},
   "source": [
    "### Model Architecture\n",
    "\n",
    "The model uses the the pre-trained VGG-16 model as a fixed feature extractor, where the last convolutional output of VGG-16 is fed as input to our model.  We only add a global average pooling layer and a fully connected layer, where the latter contains one node for each dog category and is equipped with a softmax."
   ]
  },
  {
   "cell_type": "code",
   "execution_count": 17,
   "metadata": {},
   "outputs": [
    {
     "name": "stdout",
     "output_type": "stream",
     "text": [
      "_________________________________________________________________\n",
      "Layer (type)                 Output Shape              Param #   \n",
      "=================================================================\n",
      "global_average_pooling2d_2 ( (None, 512)               0         \n",
      "_________________________________________________________________\n",
      "dense_3 (Dense)              (None, 133)               68229     \n",
      "=================================================================\n",
      "Total params: 68,229.0\n",
      "Trainable params: 68,229.0\n",
      "Non-trainable params: 0.0\n",
      "_________________________________________________________________\n"
     ]
    }
   ],
   "source": [
    "VGG16_model = Sequential()\n",
    "VGG16_model.add(GlobalAveragePooling2D(input_shape=train_VGG16.shape[1:]))\n",
    "VGG16_model.add(Dense(133, activation='softmax'))\n",
    "\n",
    "VGG16_model.summary()"
   ]
  },
  {
   "cell_type": "markdown",
   "metadata": {},
   "source": [
    "### Compile the Model"
   ]
  },
  {
   "cell_type": "code",
   "execution_count": 18,
   "metadata": {
    "collapsed": true
   },
   "outputs": [],
   "source": [
    "VGG16_model.compile(loss='categorical_crossentropy', optimizer='rmsprop', metrics=['accuracy'])"
   ]
  },
  {
   "cell_type": "markdown",
   "metadata": {},
   "source": [
    "### Train the Model"
   ]
  },
  {
   "cell_type": "code",
   "execution_count": 16,
   "metadata": {},
   "outputs": [
    {
     "name": "stdout",
     "output_type": "stream",
     "text": [
      "Train on 6680 samples, validate on 835 samples\n",
      "Epoch 1/20\n",
      "6500/6680 [============================>.] - ETA: 0s - loss: 12.0551 - acc: 0.1265Epoch 00000: val_loss improved from inf to 10.38572, saving model to saved_models/weights.best.VGG16.hdf5\n",
      "6680/6680 [==============================] - 2s - loss: 12.0188 - acc: 0.1286 - val_loss: 10.3857 - val_acc: 0.2120\n",
      "Epoch 2/20\n",
      "6640/6680 [============================>.] - ETA: 0s - loss: 9.5130 - acc: 0.3015Epoch 00001: val_loss improved from 10.38572 to 9.60830, saving model to saved_models/weights.best.VGG16.hdf5\n",
      "6680/6680 [==============================] - 2s - loss: 9.5195 - acc: 0.3015 - val_loss: 9.6083 - val_acc: 0.2970\n",
      "Epoch 3/20\n",
      "6640/6680 [============================>.] - ETA: 0s - loss: 9.0244 - acc: 0.3748Epoch 00002: val_loss improved from 9.60830 to 9.31706, saving model to saved_models/weights.best.VGG16.hdf5\n",
      "6680/6680 [==============================] - 2s - loss: 9.0158 - acc: 0.3753 - val_loss: 9.3171 - val_acc: 0.3198\n",
      "Epoch 4/20\n",
      "6580/6680 [============================>.] - ETA: 0s - loss: 8.8076 - acc: 0.4073Epoch 00003: val_loss improved from 9.31706 to 9.28057, saving model to saved_models/weights.best.VGG16.hdf5\n",
      "6680/6680 [==============================] - 2s - loss: 8.8189 - acc: 0.4060 - val_loss: 9.2806 - val_acc: 0.3269\n",
      "Epoch 5/20\n",
      "6600/6680 [============================>.] - ETA: 0s - loss: 8.7259 - acc: 0.4215Epoch 00004: val_loss improved from 9.28057 to 9.19449, saving model to saved_models/weights.best.VGG16.hdf5\n",
      "6680/6680 [==============================] - 2s - loss: 8.7350 - acc: 0.4213 - val_loss: 9.1945 - val_acc: 0.3533\n",
      "Epoch 6/20\n",
      "6620/6680 [============================>.] - ETA: 0s - loss: 8.6830 - acc: 0.4367Epoch 00005: val_loss did not improve\n",
      "6680/6680 [==============================] - 2s - loss: 8.6680 - acc: 0.4377 - val_loss: 9.2162 - val_acc: 0.3461\n",
      "Epoch 7/20\n",
      "6540/6680 [============================>.] - ETA: 0s - loss: 8.5944 - acc: 0.4442Epoch 00006: val_loss did not improve\n",
      "6680/6680 [==============================] - 2s - loss: 8.6014 - acc: 0.4440 - val_loss: 9.2131 - val_acc: 0.3533\n",
      "Epoch 8/20\n",
      "6580/6680 [============================>.] - ETA: 0s - loss: 8.5861 - acc: 0.4480Epoch 00007: val_loss did not improve\n",
      "6680/6680 [==============================] - 2s - loss: 8.5527 - acc: 0.4503 - val_loss: 9.2256 - val_acc: 0.3617\n",
      "Epoch 9/20\n",
      "6660/6680 [============================>.] - ETA: 0s - loss: 8.5015 - acc: 0.4562Epoch 00008: val_loss improved from 9.19449 to 9.09925, saving model to saved_models/weights.best.VGG16.hdf5\n",
      "6680/6680 [==============================] - 2s - loss: 8.4982 - acc: 0.4561 - val_loss: 9.0992 - val_acc: 0.3569\n",
      "Epoch 10/20\n",
      "6660/6680 [============================>.] - ETA: 0s - loss: 8.3766 - acc: 0.4671Epoch 00009: val_loss improved from 9.09925 to 9.02831, saving model to saved_models/weights.best.VGG16.hdf5\n",
      "6680/6680 [==============================] - 2s - loss: 8.3742 - acc: 0.4672 - val_loss: 9.0283 - val_acc: 0.3677\n",
      "Epoch 11/20\n",
      "6620/6680 [============================>.] - ETA: 0s - loss: 8.2834 - acc: 0.4687Epoch 00010: val_loss improved from 9.02831 to 8.96012, saving model to saved_models/weights.best.VGG16.hdf5\n",
      "6680/6680 [==============================] - 2s - loss: 8.2797 - acc: 0.4689 - val_loss: 8.9601 - val_acc: 0.3653\n",
      "Epoch 12/20\n",
      "6660/6680 [============================>.] - ETA: 0s - loss: 8.1101 - acc: 0.4772Epoch 00011: val_loss improved from 8.96012 to 8.81933, saving model to saved_models/weights.best.VGG16.hdf5\n",
      "6680/6680 [==============================] - 2s - loss: 8.1076 - acc: 0.4774 - val_loss: 8.8193 - val_acc: 0.3760\n",
      "Epoch 13/20\n",
      "6600/6680 [============================>.] - ETA: 0s - loss: 7.9971 - acc: 0.4909Epoch 00012: val_loss improved from 8.81933 to 8.68928, saving model to saved_models/weights.best.VGG16.hdf5\n",
      "6680/6680 [==============================] - 2s - loss: 8.0059 - acc: 0.4904 - val_loss: 8.6893 - val_acc: 0.3916\n",
      "Epoch 14/20\n",
      "6620/6680 [============================>.] - ETA: 0s - loss: 8.0042 - acc: 0.4929Epoch 00013: val_loss did not improve\n",
      "6680/6680 [==============================] - 2s - loss: 7.9782 - acc: 0.4946 - val_loss: 8.7831 - val_acc: 0.3832\n",
      "Epoch 15/20\n",
      "6640/6680 [============================>.] - ETA: 0s - loss: 7.9566 - acc: 0.4982Epoch 00014: val_loss did not improve\n",
      "6680/6680 [==============================] - 2s - loss: 7.9564 - acc: 0.4982 - val_loss: 8.7832 - val_acc: 0.3904\n",
      "Epoch 16/20\n",
      "6660/6680 [============================>.] - ETA: 0s - loss: 7.8704 - acc: 0.4994Epoch 00015: val_loss did not improve\n",
      "6680/6680 [==============================] - 2s - loss: 7.8757 - acc: 0.4991 - val_loss: 8.7754 - val_acc: 0.3904\n",
      "Epoch 17/20\n",
      "6560/6680 [============================>.] - ETA: 0s - loss: 7.6819 - acc: 0.5063Epoch 00016: val_loss improved from 8.68928 to 8.60116, saving model to saved_models/weights.best.VGG16.hdf5\n",
      "6680/6680 [==============================] - 2s - loss: 7.6901 - acc: 0.5057 - val_loss: 8.6012 - val_acc: 0.3928\n",
      "Epoch 18/20\n",
      "6640/6680 [============================>.] - ETA: 0s - loss: 7.4894 - acc: 0.5206Epoch 00017: val_loss improved from 8.60116 to 8.38950, saving model to saved_models/weights.best.VGG16.hdf5\n",
      "6680/6680 [==============================] - 2s - loss: 7.4930 - acc: 0.5204 - val_loss: 8.3895 - val_acc: 0.4060\n",
      "Epoch 19/20\n",
      "6620/6680 [============================>.] - ETA: 0s - loss: 7.3483 - acc: 0.5298Epoch 00018: val_loss improved from 8.38950 to 8.28292, saving model to saved_models/weights.best.VGG16.hdf5\n",
      "6680/6680 [==============================] - 2s - loss: 7.3428 - acc: 0.5301 - val_loss: 8.2829 - val_acc: 0.4048\n",
      "Epoch 20/20\n",
      "6620/6680 [============================>.] - ETA: 0s - loss: 7.1825 - acc: 0.5379Epoch 00019: val_loss improved from 8.28292 to 7.98546, saving model to saved_models/weights.best.VGG16.hdf5\n",
      "6680/6680 [==============================] - 2s - loss: 7.1668 - acc: 0.5389 - val_loss: 7.9855 - val_acc: 0.4287\n"
     ]
    },
    {
     "data": {
      "text/plain": [
       "<keras.callbacks.History at 0x7f3e7cf1ce80>"
      ]
     },
     "execution_count": 16,
     "metadata": {},
     "output_type": "execute_result"
    }
   ],
   "source": [
    "from keras.callbacks import ModelCheckpoint  \n",
    "checkpointer = ModelCheckpoint(filepath='saved_models/weights.best.VGG16.hdf5', \n",
    "                               verbose=1, save_best_only=True)\n",
    "\n",
    "VGG16_model.fit(train_VGG16, train_targets, \n",
    "          validation_data=(valid_VGG16, valid_targets),\n",
    "          epochs=20, batch_size=20, callbacks=[checkpointer], verbose=1)"
   ]
  },
  {
   "cell_type": "markdown",
   "metadata": {},
   "source": [
    "### Load the Model with the Best Validation Loss"
   ]
  },
  {
   "cell_type": "code",
   "execution_count": 19,
   "metadata": {
    "collapsed": true
   },
   "outputs": [],
   "source": [
    "VGG16_model.load_weights('saved_models/weights.best.VGG16.hdf5')"
   ]
  },
  {
   "cell_type": "markdown",
   "metadata": {},
   "source": [
    "### Test the Model\n",
    "\n",
    "Now, we can use the CNN to test how well it identifies breed within our test dataset of dog images.  We print the test accuracy below."
   ]
  },
  {
   "cell_type": "code",
   "execution_count": 23,
   "metadata": {},
   "outputs": [
    {
     "name": "stdout",
     "output_type": "stream",
     "text": [
      "Test accuracy: 44.1388%\n"
     ]
    }
   ],
   "source": [
    "# get index of predicted dog breed for each image in test set\n",
    "VGG16_predictions = [np.argmax(VGG16_model.predict(np.expand_dims(feature, axis=0))) for feature in test_VGG16]\n",
    "\n",
    "# report test accuracy\n",
    "test_accuracy = 100*np.sum(np.array(VGG16_predictions)==np.argmax(test_targets, axis=1))/len(VGG16_predictions)\n",
    "print('Test accuracy: %.4f%%' % test_accuracy)\n",
    "\n"
   ]
  },
  {
   "cell_type": "markdown",
   "metadata": {},
   "source": [
    "### Predict Dog Breed with the Model"
   ]
  },
  {
   "cell_type": "code",
   "execution_count": 24,
   "metadata": {
    "collapsed": true
   },
   "outputs": [],
   "source": [
    "from extract_bottleneck_features import *\n",
    "\n",
    "def VGG16_predict_breed(img_path):\n",
    "    # extract bottleneck features\n",
    "    bottleneck_feature = extract_VGG16(path_to_tensor(img_path))\n",
    "    # obtain predicted vector\n",
    "    predicted_vector = VGG16_model.predict(bottleneck_feature)\n",
    "    # return dog breed that is predicted by the model\n",
    "    return dog_names[np.argmax(predicted_vector)]"
   ]
  },
  {
   "cell_type": "markdown",
   "metadata": {},
   "source": [
    "---\n",
    "<a id='step5'></a>\n",
    "## Step 5: Create a CNN to Classify Dog Breeds (using Transfer Learning)\n",
    "\n",
    "You will now use transfer learning to create a CNN that can identify dog breed from images.  Your CNN must attain at least 60% accuracy on the test set.\n",
    "\n",
    "In Step 4, we used transfer learning to create a CNN using VGG-16 bottleneck features.  In this section, you must use the bottleneck features from a different pre-trained model.  To make things easier for you, we have pre-computed the features for all of the networks that are currently available in Keras:\n",
    "- [VGG-19](https://s3-us-west-1.amazonaws.com/udacity-aind/dog-project/DogVGG19Data.npz) bottleneck features\n",
    "- [ResNet-50](https://s3-us-west-1.amazonaws.com/udacity-aind/dog-project/DogResnet50Data.npz) bottleneck features\n",
    "- [Inception](https://s3-us-west-1.amazonaws.com/udacity-aind/dog-project/DogInceptionV3Data.npz) bottleneck features\n",
    "- [Xception](https://s3-us-west-1.amazonaws.com/udacity-aind/dog-project/DogXceptionData.npz) bottleneck features\n",
    "\n",
    "The files are encoded as such:\n",
    "\n",
    "    Dog{network}Data.npz\n",
    "    \n",
    "where `{network}`, in the above filename, can be one of `VGG19`, `Resnet50`, `InceptionV3`, or `Xception`.  Pick one of the above architectures, download the corresponding bottleneck features, and store the downloaded file in the `bottleneck_features/` folder in the repository.\n",
    "\n",
    "### (IMPLEMENTATION) Obtain Bottleneck Features\n",
    "\n",
    "In the code block below, extract the bottleneck features corresponding to the train, test, and validation sets by running the following:\n",
    "\n",
    "    bottleneck_features = np.load('bottleneck_features/Dog{network}Data.npz')\n",
    "    train_{network} = bottleneck_features['train']\n",
    "    valid_{network} = bottleneck_features['valid']\n",
    "    test_{network} = bottleneck_features['test']"
   ]
  },
  {
   "cell_type": "code",
   "execution_count": 25,
   "metadata": {
    "collapsed": true
   },
   "outputs": [],
   "source": [
    "### TODO: Obtain bottleneck features from another pre-trained CNN.\n",
    "inception_features = np.load('bottleneck_features/DogInceptionV3Data.npz')\n",
    "train_Inception = inception_features['train']\n",
    "valid_Inception = inception_features['valid']\n",
    "test_Inception = inception_features['test']"
   ]
  },
  {
   "cell_type": "markdown",
   "metadata": {},
   "source": [
    "### (IMPLEMENTATION) Model Architecture\n",
    "\n",
    "Create a CNN to classify dog breed.  At the end of your code cell block, summarize the layers of your model by executing the line:\n",
    "    \n",
    "        <your model's name>.summary()\n",
    "   \n",
    "__Question 5:__ Outline the steps you took to get to your final CNN architecture and your reasoning at each step.  Describe why you think the architecture is suitable for the current problem.\n",
    "\n",
    "__Answer:__ \n",
    "\n",
    "The first layer is the globalaverage pooling 2d. I took this layer from the previous model that had used transfer learning. This pooling layer reduces the size of the tensor greatly while summarizing the features. This makes the model faster and reduces overfitting. \n",
    "\n",
    "The dense layer has 32 nodes. I chose a smaller number of nodes as i wanted to the model to run quickly and i thought the global average pooling would result in tensors that are easier to classify. I was willing to change this number or even add an additional layer, but the accuracy of the model met requirements. I used relu as it prevents the vanishing gradient problem. \n",
    "\n",
    "The final layer is the output layer, it has 133 nodes as that's how many breeds there are that we want it to classify. Softmax is appropriate function for classifcation of more than 2 classes. "
   ]
  },
  {
   "cell_type": "code",
   "execution_count": 7,
   "metadata": {},
   "outputs": [
    {
     "name": "stdout",
     "output_type": "stream",
     "text": [
      "_________________________________________________________________\n",
      "Layer (type)                 Output Shape              Param #   \n",
      "=================================================================\n",
      "global_average_pooling2d_1 ( (None, 2048)              0         \n",
      "_________________________________________________________________\n",
      "dense_1 (Dense)              (None, 32)                65568     \n",
      "_________________________________________________________________\n",
      "dense_2 (Dense)              (None, 133)               4389      \n",
      "=================================================================\n",
      "Total params: 69,957.0\n",
      "Trainable params: 69,957.0\n",
      "Non-trainable params: 0.0\n",
      "_________________________________________________________________\n"
     ]
    }
   ],
   "source": [
    "### TODO: Define your architecture.\n",
    "import keras # not required if running above cells but easier for me to work offline with\n",
    "from keras.layers import Conv2D, MaxPooling2D, GlobalAveragePooling2D\n",
    "from keras.layers import Dropout, Flatten, Dense\n",
    "from keras.models import Sequential\n",
    "\n",
    "inceptionModel = Sequential()\n",
    "\n",
    "\n",
    "### TODO: Define your architecture.\n",
    "\n",
    "inceptionModel.add(GlobalAveragePooling2D(input_shape=train_Inception.shape[1:]))\n",
    "inceptionModel.add(Dense(32,activation='relu'))\n",
    "inceptionModel.add(Dense(133, activation='softmax'))\n",
    "\n",
    "inceptionModel.summary()"
   ]
  },
  {
   "cell_type": "markdown",
   "metadata": {},
   "source": [
    "### (IMPLEMENTATION) Compile the Model"
   ]
  },
  {
   "cell_type": "code",
   "execution_count": 8,
   "metadata": {
    "collapsed": true
   },
   "outputs": [],
   "source": [
    "### TODO: Compile the model.\n",
    "inceptionModel.compile(loss='categorical_crossentropy', optimizer='rmsprop', metrics=['accuracy'])"
   ]
  },
  {
   "cell_type": "markdown",
   "metadata": {},
   "source": [
    "### (IMPLEMENTATION) Train the Model\n",
    "\n",
    "Train your model in the code cell below.  Use model checkpointing to save the model that attains the best validation loss.  \n",
    "\n",
    "You are welcome to [augment the training data](https://blog.keras.io/building-powerful-image-classification-models-using-very-little-data.html), but this is not a requirement. "
   ]
  },
  {
   "cell_type": "code",
   "execution_count": 9,
   "metadata": {},
   "outputs": [
    {
     "name": "stdout",
     "output_type": "stream",
     "text": [
      "Train on 6680 samples, validate on 835 samples\n",
      "Epoch 1/20\n",
      "6640/6680 [============================>.] - ETA: 0s - loss: 2.2314 - acc: 0.5193Epoch 00000: val_loss improved from inf to 0.94577, saving model to saved_models/weights.best.Inception.hdf5\n",
      "6680/6680 [==============================] - 4s - loss: 2.2232 - acc: 0.5207 - val_loss: 0.9458 - val_acc: 0.7329\n",
      "Epoch 2/20\n",
      "6640/6680 [============================>.] - ETA: 0s - loss: 0.7290 - acc: 0.7881Epoch 00001: val_loss improved from 0.94577 to 0.68353, saving model to saved_models/weights.best.Inception.hdf5\n",
      "6680/6680 [==============================] - 3s - loss: 0.7293 - acc: 0.7879 - val_loss: 0.6835 - val_acc: 0.7784\n",
      "Epoch 3/20\n",
      "6600/6680 [============================>.] - ETA: 0s - loss: 0.5377 - acc: 0.8305Epoch 00002: val_loss improved from 0.68353 to 0.64763, saving model to saved_models/weights.best.Inception.hdf5\n",
      "6680/6680 [==============================] - 3s - loss: 0.5384 - acc: 0.8305 - val_loss: 0.6476 - val_acc: 0.7952\n",
      "Epoch 4/20\n",
      "6580/6680 [============================>.] - ETA: 0s - loss: 0.4356 - acc: 0.8631Epoch 00003: val_loss did not improve\n",
      "6680/6680 [==============================] - 3s - loss: 0.4383 - acc: 0.8620 - val_loss: 0.6657 - val_acc: 0.8084\n",
      "Epoch 5/20\n",
      "6600/6680 [============================>.] - ETA: 0s - loss: 0.3621 - acc: 0.8794Epoch 00004: val_loss did not improve\n",
      "6680/6680 [==============================] - 3s - loss: 0.3630 - acc: 0.8790 - val_loss: 0.7028 - val_acc: 0.8060\n",
      "Epoch 6/20\n",
      "6640/6680 [============================>.] - ETA: 0s - loss: 0.3101 - acc: 0.9000Epoch 00005: val_loss did not improve\n",
      "6680/6680 [==============================] - 3s - loss: 0.3097 - acc: 0.9001 - val_loss: 0.7398 - val_acc: 0.8036\n",
      "Epoch 7/20\n",
      "6600/6680 [============================>.] - ETA: 0s - loss: 0.2610 - acc: 0.9115Epoch 00006: val_loss did not improve\n",
      "6680/6680 [==============================] - 3s - loss: 0.2614 - acc: 0.9115 - val_loss: 0.7066 - val_acc: 0.8144\n",
      "Epoch 8/20\n",
      "6640/6680 [============================>.] - ETA: 0s - loss: 0.2226 - acc: 0.9218Epoch 00007: val_loss did not improve\n",
      "6680/6680 [==============================] - 3s - loss: 0.2224 - acc: 0.9220 - val_loss: 0.7023 - val_acc: 0.8156\n",
      "Epoch 9/20\n",
      "6580/6680 [============================>.] - ETA: 0s - loss: 0.1860 - acc: 0.9386Epoch 00008: val_loss did not improve\n",
      "6680/6680 [==============================] - 3s - loss: 0.1859 - acc: 0.9385 - val_loss: 0.7333 - val_acc: 0.8180\n",
      "Epoch 10/20\n",
      "6640/6680 [============================>.] - ETA: 0s - loss: 0.1634 - acc: 0.9447Epoch 00009: val_loss did not improve\n",
      "6680/6680 [==============================] - 3s - loss: 0.1645 - acc: 0.9448 - val_loss: 0.7517 - val_acc: 0.8228\n",
      "Epoch 11/20\n",
      "6640/6680 [============================>.] - ETA: 0s - loss: 0.1387 - acc: 0.9536Epoch 00010: val_loss did not improve\n",
      "6680/6680 [==============================] - 4s - loss: 0.1386 - acc: 0.9536 - val_loss: 0.7412 - val_acc: 0.8263\n",
      "Epoch 12/20\n",
      "6620/6680 [============================>.] - ETA: 0s - loss: 0.1218 - acc: 0.9573Epoch 00011: val_loss did not improve\n",
      "6680/6680 [==============================] - 3s - loss: 0.1227 - acc: 0.9570 - val_loss: 0.7614 - val_acc: 0.8311\n",
      "Epoch 13/20\n",
      "6640/6680 [============================>.] - ETA: 0s - loss: 0.1066 - acc: 0.9630Epoch 00012: val_loss did not improve\n",
      "6680/6680 [==============================] - 3s - loss: 0.1063 - acc: 0.9632 - val_loss: 0.8289 - val_acc: 0.8072\n",
      "Epoch 14/20\n",
      "6640/6680 [============================>.] - ETA: 0s - loss: 0.0911 - acc: 0.9718Epoch 00013: val_loss did not improve\n",
      "6680/6680 [==============================] - 3s - loss: 0.0911 - acc: 0.9720 - val_loss: 0.8664 - val_acc: 0.8192\n",
      "Epoch 15/20\n",
      "6580/6680 [============================>.] - ETA: 0s - loss: 0.0788 - acc: 0.9740Epoch 00014: val_loss did not improve\n",
      "6680/6680 [==============================] - 3s - loss: 0.0791 - acc: 0.9737 - val_loss: 0.8732 - val_acc: 0.8144\n",
      "Epoch 16/20\n",
      "6660/6680 [============================>.] - ETA: 0s - loss: 0.0735 - acc: 0.9757Epoch 00015: val_loss did not improve\n",
      "6680/6680 [==============================] - 3s - loss: 0.0734 - acc: 0.9757 - val_loss: 0.8752 - val_acc: 0.8192\n",
      "Epoch 17/20\n",
      "6640/6680 [============================>.] - ETA: 0s - loss: 0.0609 - acc: 0.9806Epoch 00016: val_loss did not improve\n",
      "6680/6680 [==============================] - 3s - loss: 0.0610 - acc: 0.9805 - val_loss: 0.8925 - val_acc: 0.8132\n",
      "Epoch 18/20\n",
      "6580/6680 [============================>.] - ETA: 0s - loss: 0.0562 - acc: 0.9830Epoch 00017: val_loss did not improve\n",
      "6680/6680 [==============================] - 3s - loss: 0.0576 - acc: 0.9825 - val_loss: 0.9613 - val_acc: 0.8192\n",
      "Epoch 19/20\n",
      "6640/6680 [============================>.] - ETA: 0s - loss: 0.0494 - acc: 0.9849Epoch 00018: val_loss did not improve\n",
      "6680/6680 [==============================] - 3s - loss: 0.0494 - acc: 0.9849 - val_loss: 0.9318 - val_acc: 0.8251\n",
      "Epoch 20/20\n",
      "6600/6680 [============================>.] - ETA: 0s - loss: 0.0449 - acc: 0.9871Epoch 00019: val_loss did not improve\n",
      "6680/6680 [==============================] - 3s - loss: 0.0447 - acc: 0.9871 - val_loss: 0.9421 - val_acc: 0.8216\n"
     ]
    },
    {
     "data": {
      "text/plain": [
       "<keras.callbacks.History at 0x7f77938fb1d0>"
      ]
     },
     "execution_count": 9,
     "metadata": {},
     "output_type": "execute_result"
    }
   ],
   "source": [
    "### TODO: Train the model.\n",
    "from keras.callbacks import ModelCheckpoint  \n",
    "checkpointer = ModelCheckpoint(filepath='saved_models/weights.best.Inception.hdf5', \n",
    "                               verbose=1, save_best_only=True)\n",
    "\n",
    "inceptionModel.fit(train_Inception, train_targets, \n",
    "          validation_data=(valid_Inception, valid_targets),\n",
    "          epochs=20, batch_size=20, callbacks=[checkpointer], verbose=1)"
   ]
  },
  {
   "cell_type": "markdown",
   "metadata": {},
   "source": [
    "### (IMPLEMENTATION) Load the Model with the Best Validation Loss"
   ]
  },
  {
   "cell_type": "code",
   "execution_count": 10,
   "metadata": {
    "collapsed": true
   },
   "outputs": [],
   "source": [
    "### TODO: Load the model weights with the best validation loss.\n",
    "inceptionModel.load_weights('saved_models/weights.best.Inception.hdf5')"
   ]
  },
  {
   "cell_type": "markdown",
   "metadata": {},
   "source": [
    "### (IMPLEMENTATION) Test the Model\n",
    "\n",
    "Try out your model on the test dataset of dog images. Ensure that your test accuracy is greater than 60%."
   ]
  },
  {
   "cell_type": "code",
   "execution_count": 4,
   "metadata": {},
   "outputs": [
    {
     "name": "stdout",
     "output_type": "stream",
     "text": [
      "Test accuracy: 77.0335%\n"
     ]
    }
   ],
   "source": [
    "### TODO: Calculate classification accuracy on the test dataset.\n",
    "# get index of predicted dog breed for each image in test set\n",
    "Inception_predictions = [np.argmax(inceptionModel.predict(np.expand_dims(feature, axis=0))) for feature in test_Inception]\n",
    "\n",
    "# report test accuracy\n",
    "Inception_test_accuracy = 100*np.sum(np.array(Inception_predictions)==np.argmax(test_targets, axis=1))/len(Inception_predictions)\n",
    "print('Test accuracy: %.4f%%' % Inception_test_accuracy)\n"
   ]
  },
  {
   "cell_type": "markdown",
   "metadata": {},
   "source": [
    "### (IMPLEMENTATION) Predict Dog Breed with the Model\n",
    "\n",
    "Write a function that takes an image path as input and returns the dog breed (`Affenpinscher`, `Afghan_hound`, etc) that is predicted by your model.  \n",
    "\n",
    "Similar to the analogous function in Step 5, your function should have three steps:\n",
    "1. Extract the bottleneck features corresponding to the chosen CNN model.\n",
    "2. Supply the bottleneck features as input to the model to return the predicted vector.  Note that the argmax of this prediction vector gives the index of the predicted dog breed.\n",
    "3. Use the `dog_names` array defined in Step 0 of this notebook to return the corresponding breed.\n",
    "\n",
    "The functions to extract the bottleneck features can be found in `extract_bottleneck_features.py`, and they have been imported in an earlier code cell.  To obtain the bottleneck features corresponding to your chosen CNN architecture, you need to use the function\n",
    "\n",
    "    extract_{network}\n",
    "    \n",
    "where `{network}`, in the above filename, should be one of `VGG19`, `Resnet50`, `InceptionV3`, or `Xception`."
   ]
  },
  {
   "cell_type": "code",
   "execution_count": 28,
   "metadata": {
    "collapsed": true
   },
   "outputs": [],
   "source": [
    "\n",
    "def predictDogBreed(imagepath,inceptionModel):\n",
    "    \n",
    "    image_tensor = path_to_tensor(imagepath)\n",
    "    image_inception_features = extract_InceptionV3(image_tensor)\n",
    "    predict_index = np.argmax(inceptionModel.predict(image_inception_features))\n",
    "    prediction = dog_names[predict_index]\n",
    "    return prediction, predict_index\n",
    "    \n",
    "    "
   ]
  },
  {
   "cell_type": "markdown",
   "metadata": {},
   "source": [
    "---\n",
    "<a id='step6'></a>\n",
    "## Step 6: Write your Algorithm\n",
    "\n",
    "Write an algorithm that accepts a file path to an image and first determines whether the image contains a human, dog, or neither.  Then,\n",
    "- if a __dog__ is detected in the image, return the predicted breed.\n",
    "- if a __human__ is detected in the image, return the resembling dog breed.\n",
    "- if __neither__ is detected in the image, provide output that indicates an error.\n",
    "\n",
    "You are welcome to write your own functions for detecting humans and dogs in images, but feel free to use the `face_detector` and `dog_detector` functions developed above.  You are __required__ to use your CNN from Step 5 to predict dog breed.  \n",
    "\n",
    "Some sample output for our algorithm is provided below, but feel free to design your own user experience!\n",
    "\n",
    "![Sample Human Output](images/sample_human_output.png)\n",
    "\n",
    "\n",
    "### (IMPLEMENTATION) Write your Algorithm"
   ]
  },
  {
   "cell_type": "code",
   "execution_count": 27,
   "metadata": {
    "collapsed": true
   },
   "outputs": [],
   "source": [
    "### TODO: Write your algorithm.\n",
    "### Feel free to use as many code cells as needed.\n",
    "\n",
    "\n",
    "\n",
    "\n",
    "def my_algorithm(imagePath,inceptionModel):\n",
    "    if dog_detector(imagePath):\n",
    "        breed = predictDogBreed(imagePath,inceptionModel)\n",
    "        print (\"Dog detected of breed: \",breed[0] )\n",
    "    else:\n",
    "        breed = predictDogBreed(imagePath,inceptionModel)\n",
    "        print (\"Human detected, but they look like a : \", breed[0])\n",
    "    return breed\n",
    "\n",
    "\n",
    "        "
   ]
  },
  {
   "cell_type": "markdown",
   "metadata": {},
   "source": [
    "---\n",
    "<a id='step7'></a>\n",
    "## Step 7: Test Your Algorithm\n",
    "\n",
    "In this section, you will take your new algorithm for a spin!  What kind of dog does the algorithm think that __you__ look like?  If you have a dog, does it predict your dog's breed accurately?  If you have a cat, does it mistakenly think that your cat is a dog?\n",
    "\n",
    "### (IMPLEMENTATION) Test Your Algorithm on Sample Images!\n",
    "\n",
    "Test your algorithm at least six images on your computer.  Feel free to use any images you like.  Use at least two human and two dog images.  \n",
    "\n",
    "__Question 6:__ Is the output better than you expected :) ?  Or worse :( ?  Provide at least three possible points of improvement for your algorithm.\n",
    "\n",
    "__Answer:__ \n",
    "\n",
    "The output for humans is better than i expected. The human images were correctly identified as human and I do look like an Icelandic sheepdog. The output for dogs was not as good as i had hoped. I'm impressed that the model identified the sausage dog as a dog, even though is was dressed up. It also got the breed right, which is especially impressive. \n",
    "\n",
    "I'm a little disappointed that it mis-identified the breed of the bichon frise, however the bichon frise puppies do look nearly identical to old english sheepdog puppies. I certainly wouldn't be able to tell the difference. \n",
    "\n",
    "I'm also disappointed that the model mis-identified the breed of the sausage-dog dressed as a hotdog. I think the hotdog clothing, meant the model thought the hotdog was the body of the sausage dog. I imagine the outline of an american foxhound is similar to that of the hotdog outfit.\n",
    "\n",
    "Improvements:\n",
    "1) The model could be trained on dogs that are wearing outfits or have partially obscured bodies. This would help prevent mis-classification of dogs wearing clothes. \n",
    "2) The model's fully connected layer could be made deeper or wider to allow greater complexity in it's calculations. This would increase learning time but could result in more accurate results\n",
    "3) The model could have a step to identify the age of the dog. This step would run before entering the current CNN architecture. This additional feature would be difficult to extract, but might prove very helpful. The accuracy of the feature wouldn't need to be very high. I.e. is the dog an adult or a puppy, rather than how many years old. This feature would allow the model to use different approaches when identifying puppies (which can look quite similar across the breeds) to identifying adults. I imagine that this puppy-or-adult classifier would need to be a CNN itself, but might not need to be as complex as the breed-classifier. "
   ]
  },
  {
   "cell_type": "code",
   "execution_count": 1,
   "metadata": {},
   "outputs": [
    {
     "name": "stderr",
     "output_type": "stream",
     "text": [
      "Using TensorFlow backend.\n"
     ]
    },
    {
     "name": "stdout",
     "output_type": "stream",
     "text": [
      "_________________________________________________________________\n",
      "Layer (type)                 Output Shape              Param #   \n",
      "=================================================================\n",
      "global_average_pooling2d_1 ( (None, 2048)              0         \n",
      "_________________________________________________________________\n",
      "dense_1 (Dense)              (None, 32)                65568     \n",
      "_________________________________________________________________\n",
      "dense_2 (Dense)              (None, 133)               4389      \n",
      "=================================================================\n",
      "Total params: 69,957.0\n",
      "Trainable params: 69,957.0\n",
      "Non-trainable params: 0.0\n",
      "_________________________________________________________________\n",
      "There are 133 total dog categories.\n",
      "There are 8351 total dog images.\n",
      "\n",
      "There are 6680 training dog images.\n",
      "There are 835 validation dog images.\n",
      "There are 836 test dog images.\n",
      "There are 13233 total human images.\n",
      "Prep complete\n"
     ]
    }
   ],
   "source": [
    "## TODO: Execute your algorithm from Step 6 on\n",
    "## at least 6 images on your computer.\n",
    "## Feel free to use as many code cells as needed.\n",
    "\n",
    "from sklearn.datasets import load_files       \n",
    "from keras.utils import np_utils\n",
    "import numpy as np\n",
    "from glob import glob\n",
    "from keras.preprocessing import image                  \n",
    "from tqdm import tqdm\n",
    "from keras.applications.resnet50 import ResNet50\n",
    "from keras.applications.resnet50 import preprocess_input, decode_predictions\n",
    "from extract_bottleneck_features import *\n",
    "\n",
    "\n",
    "from keras.preprocessing import image                  \n",
    "from tqdm import tqdm\n",
    "\n",
    "### TODO: Define your architecture.\n",
    "import keras # not required if running above cells but easier for me to work offline with\n",
    "from keras.layers import Conv2D, MaxPooling2D, GlobalAveragePooling2D\n",
    "from keras.layers import Dropout, Flatten, Dense\n",
    "from keras.models import Sequential\n",
    "import random\n",
    "\n",
    "\n",
    "### TODO: Obtain bottleneck features from another pre-trained CNN.\n",
    "inception_features = np.load('bottleneck_features/DogInceptionV3Data.npz')\n",
    "train_Inception = inception_features['train']\n",
    "valid_Inception = inception_features['valid']\n",
    "test_Inception = inception_features['test']\n",
    "\n",
    "#----------------------------\n",
    "\n",
    "\n",
    "def path_to_tensor(img_path):\n",
    "    # loads RGB image as PIL.Image.Image type\n",
    "    img = image.load_img(img_path, target_size=(224, 224))\n",
    "    # convert PIL.Image.Image type to 3D tensor with shape (224, 224, 3)\n",
    "    x = image.img_to_array(img)\n",
    "    # convert 3D tensor to 4D tensor with shape (1, 224, 224, 3) and return 4D tensor\n",
    "    return np.expand_dims(x, axis=0)\n",
    "\n",
    "def paths_to_tensor(img_paths):\n",
    "    list_of_tensors = [path_to_tensor(img_path) for img_path in tqdm(img_paths)]\n",
    "    return np.vstack(list_of_tensors)\n",
    "\n",
    "#----------------------------------\n",
    "\n",
    "\n",
    "inceptionModel = Sequential()\n",
    "\n",
    "\n",
    "### TODO: Define your architecture.\n",
    "\n",
    "inceptionModel.add(GlobalAveragePooling2D(input_shape=train_Inception.shape[1:]))\n",
    "inceptionModel.add(Dense(32,activation='relu'))\n",
    "inceptionModel.add(Dense(133, activation='softmax'))\n",
    "\n",
    "inceptionModel.summary()\n",
    "\n",
    "inceptionModel.load_weights('saved_models/weights.best.Inception.hdf5')\n",
    "\n",
    "\n",
    "# ----------------\n",
    "\n",
    "\n",
    "\n",
    "# define function to load train, test, and validation datasets\n",
    "def load_dataset(path):\n",
    "    data = load_files(path)\n",
    "    dog_files = np.array(data['filenames'])\n",
    "    dog_targets = np_utils.to_categorical(np.array(data['target']), 133)\n",
    "    return dog_files, dog_targets\n",
    "\n",
    "# load train, test, and validation datasets\n",
    "train_files, train_targets = load_dataset('dogImages/train')\n",
    "valid_files, valid_targets = load_dataset('dogImages/valid')\n",
    "test_files, test_targets = load_dataset('dogImages/test')\n",
    "\n",
    "# load list of dog names\n",
    "dog_names = [item[20:-1] for item in sorted(glob(\"dogImages/train/*/\"))]\n",
    "\n",
    "# print statistics about the dataset\n",
    "print('There are %d total dog categories.' % len(dog_names))\n",
    "print('There are %s total dog images.\\n' % len(np.hstack([train_files, valid_files, test_files])))\n",
    "print('There are %d training dog images.' % len(train_files))\n",
    "print('There are %d validation dog images.' % len(valid_files))\n",
    "print('There are %d test dog images.'% len(test_files))\n",
    "\n",
    "\n",
    "# define ResNet50 model\n",
    "ResNet50_model = ResNet50(weights='imagenet')\n",
    "\n",
    "def ResNet50_predict_labels(img_path):\n",
    "    # returns prediction vector for image located at img_path\n",
    "    img = preprocess_input(path_to_tensor(img_path))\n",
    "    return np.argmax(ResNet50_model.predict(img))\n",
    "\n",
    "def dog_detector(img_path):\n",
    "    prediction = ResNet50_predict_labels(img_path)\n",
    "    return ((prediction <= 268) & (prediction >= 151)) \n",
    "#-------------\n",
    "\n",
    "random.seed(8675309)\n",
    "\n",
    "# load filenames in shuffled human dataset\n",
    "human_files = np.array(glob(\"lfw/*/*\"))\n",
    "random.shuffle(human_files)\n",
    "\n",
    "# print statistics about the dataset\n",
    "print('There are %d total human images.' % len(human_files))\n",
    "#--------------------------\n",
    "print (\"Prep complete\")\n",
    "\n",
    "    \n"
   ]
  },
  {
   "cell_type": "code",
   "execution_count": 2,
   "metadata": {
    "collapsed": true
   },
   "outputs": [],
   "source": [
    "# these are the same as above, they're here for convenience.\n",
    "def predictDogBreed(imagepath,inceptionModel):\n",
    "    \n",
    "    image_tensor = path_to_tensor(imagepath)\n",
    "    image_inception_features = extract_InceptionV3(image_tensor)\n",
    "    predict_index = np.argmax(inceptionModel.predict(image_inception_features))\n",
    "    prediction = dog_names[predict_index]\n",
    "    return prediction, predict_index\n",
    "\n",
    "\n",
    "def my_algorithm(imagePath,inceptionModel):\n",
    "    if dog_detector(imagePath):\n",
    "        breed = predictDogBreed(imagePath,inceptionModel)\n",
    "        print (\"Dog detected of breed: \",breed[0] )\n",
    "    else:\n",
    "        breed = predictDogBreed(imagePath,inceptionModel)\n",
    "        print (\"Human detected, but they look like a : \", breed[0])\n",
    "    return breed\n",
    "\n",
    "\n"
   ]
  },
  {
   "cell_type": "code",
   "execution_count": 8,
   "metadata": {},
   "outputs": [
    {
     "name": "stdout",
     "output_type": "stream",
     "text": [
      "Running test\n",
      "file: fun-files/sausage-dog/tumblr_lw7h7q5JKc1r3pgwbo1_500.jpeg\n",
      "Dog detected of breed:  Dachshund\n",
      "result:  ('Dachshund', 55)\n",
      "file: fun-files/matt/matt-kid.jpg\n",
      "Human detected, but they look like a :  Finnish_spitz\n",
      "result:  ('Finnish_spitz', 66)\n",
      "file: fun-files/laura/laura.jpg\n",
      "Human detected, but they look like a :  Dachshund\n",
      "result:  ('Dachshund', 55)\n",
      "file: fun-files/matt/matt-sunglasses.jpg\n",
      "Human detected, but they look like a :  Icelandic_sheepdog\n",
      "result:  ('Icelandic_sheepdog', 83)\n",
      "file: fun-files/bichon-frise/Bichon-Frise-3.jpg\n",
      "Dog detected of breed:  Old_english_sheepdog\n",
      "result:  ('Old_english_sheepdog', 112)\n",
      "file: fun-files/sausage-dog/download.jpeg\n",
      "Dog detected of breed:  American_foxhound\n",
      "result:  ('American_foxhound', 6)\n",
      "Test complete\n"
     ]
    }
   ],
   "source": [
    "print (\"Running test\")\n",
    "\n",
    "'''\n",
    "sample_images = train_files[291:297]\n",
    "print (sample_images)\n",
    "\n",
    "    \n",
    "for human_image in human_files:\n",
    "    print (\"Sample image \",human_image)\n",
    "    human_result = my_algorithm(human_image,inceptionModel)\n",
    "    print (\"result \",human_result)\n",
    "\n",
    "for sample_image in sample_images:\n",
    "    print (\"Sample image \",sample_image)\n",
    "    result = my_algorithm(sample_image,inceptionModel)\n",
    "    print (\"result \",result)\n",
    "'''\n",
    "\n",
    "fun_files, fun_targets = load_dataset('fun-files')\n",
    "#print (fun_files)\n",
    "#print (fun_targets)\n",
    "\n",
    "for fun_file in fun_files:\n",
    "    print (\"file:\",fun_file)\n",
    "    fun_result = my_algorithm(fun_file,inceptionModel)\n",
    "    print(\"result: \", fun_result)\n",
    "    \n",
    "    \n",
    "print (\"Test complete\")"
   ]
  },
  {
   "cell_type": "code",
   "execution_count": null,
   "metadata": {
    "collapsed": true
   },
   "outputs": [],
   "source": []
  }
 ],
 "metadata": {
  "anaconda-cloud": {},
  "kernelspec": {
   "display_name": "Python 2",
   "language": "python",
   "name": "python2"
  },
  "language_info": {
   "codemirror_mode": {
    "name": "ipython",
    "version": 2
   },
   "file_extension": ".py",
   "mimetype": "text/x-python",
   "name": "python",
   "nbconvert_exporter": "python",
   "pygments_lexer": "ipython2",
   "version": "2.7.13"
  }
 },
 "nbformat": 4,
 "nbformat_minor": 1
}
